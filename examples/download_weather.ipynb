{
 "cells": [
  {
   "cell_type": "code",
   "execution_count": null,
   "id": "618e275d",
   "metadata": {
    "vscode": {
     "languageId": "plaintext"
    }
   },
   "outputs": [],
   "source": [
    "import aisdb\n",
    "from aisdb import DBQuery\n",
    "from aisdb.database.dbconn import PostgresDBConn\n",
    "from datetime import datetime\n",
    "from aisdb.weather.weather_fetch import ClimateDataStore "
   ]
  },
  {
   "cell_type": "code",
   "execution_count": null,
   "id": "135c7a13",
   "metadata": {
    "vscode": {
     "languageId": "plaintext"
    }
   },
   "outputs": [],
   "source": [
    "# >>> PostgreSQL Information <<<\n",
    "db_user=''           # DB User\n",
    "db_dbname=''         # DB Schema\n",
    "db_password=''       # DB Password\n",
    "db_hostaddr=''       # DB Host address\n",
    "\n",
    "dbconn = PostgresDBConn(\n",
    "    port=5588,             # PostgreSQL port\n",
    "    user=db_user,          # PostgreSQL username\n",
    "    dbname=db_dbname,      # PostgreSQL database\n",
    "    host=db_hostaddr,      # PostgreSQL address\n",
    "    password=db_password,  # PostgreSQL password\n",
    ")\n"
   ]
  },
  {
   "cell_type": "code",
   "execution_count": null,
   "id": "af8f2a10",
   "metadata": {
    "vscode": {
     "languageId": "plaintext"
    }
   },
   "outputs": [],
   "source": [
    "xmin, ymin, xmax, ymax = -70, 45, -58, 53\n",
    "gulf_bbox = [xmin, xmax, ymin, ymax]\n",
    "start_time = datetime(2023,8 , 10)\n",
    "end_time = datetime(2023, 10, 9)\n",
    "\n",
    "qry = DBQuery(\n",
    "    dbconn=dbconn,\n",
    "    start=start_time, end=end_time,\n",
    "    xmin=xmin, xmax=xmax, ymin=ymin, ymax=ymax,\n",
    "    callback=aisdb.database.sqlfcn_callbacks.in_time_bbox_validmmsi\n",
    ")\n",
    "\n",
    "ais_tracks = []\n",
    "rowgen = qry.gen_qry()\n",
    "tracks = aisdb.track_gen.TrackGen(rowgen, decimate=\"True\")"
   ]
  },
  {
   "cell_type": "code",
   "execution_count": null,
   "id": "ba9bca0f",
   "metadata": {
    "vscode": {
     "languageId": "plaintext"
    }
   },
   "outputs": [],
   "source": [
    "#old method\n",
    "import cdsapi\n",
    "\n",
    "c = cdsapi.Client()\n",
    "\n",
    "c.retrieve(\n",
    "    'reanalysis-era5-single-levels', \n",
    "    {\n",
    "        'product_type': 'reanalysis',\n",
    "        'format': 'grib',\n",
    "        'variable': '10m_u_component_of_wind', \n",
    "        'area': [53, -70, 45, -58],\n",
    "        'year': '2023',\n",
    "        'month': '08',\n",
    "        'day': '01',\n",
    "        'time': '00:00',\n",
    "    },\n",
    "    'climate_data.grib')"
   ]
  },
  {
   "cell_type": "code",
   "execution_count": null,
   "id": "80dceaf8",
   "metadata": {
    "vscode": {
     "languageId": "plaintext"
    }
   },
   "outputs": [],
   "source": [
    "#new method\n",
    "from aisdb.weather.weather_fetch import ClimateDataStore # for weather\n",
    "\n",
    "climateDataStore = ClimateDataStore(dataset=\"reanalysis-era5-single-levels\", short_names= ['10v','10u'], start_time = start_time, end_time = end_time, area= gulf_bbox)\n",
    "climateDataStore.download_grib_file(output_folder=\"/weather_data\")\n"
   ]
  }
 ],
 "metadata": {
  "language_info": {
   "name": "python"
  }
 },
 "nbformat": 4,
 "nbformat_minor": 5
}
