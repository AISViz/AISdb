{
 "cells": [
  {
   "cell_type": "code",
   "execution_count": null,
   "metadata": {
    "vscode": {
     "languageId": "plaintext"
    }
   },
   "outputs": [],
   "source": [
    "import os\n",
    "import aisdb\n",
    "import pickle\n",
    "import numpy as np\n",
    "import pandas as pd\n",
    "import nest_asyncio\n",
    "import geopandas as gpd\n",
    "import cartopy.crs as ccrs\n",
    "import plotly.express as px\n",
    "import matplotlib.pyplot as plt\n",
    "import plotly.graph_objects as go\n",
    "import cartopy.feature as cfeature\n",
    "from aisdb import DBConn, DBQuery, DomainFromPoints\n",
    "from aisdb.database.dbconn import PostgresDBConn\n",
    "from shapely.geometry import Point, MultiPoint\n",
    "from aisdb.webdata.shore_dist import CoastDist\n",
    "from aisdb.webdata.shore_dist import ShoreDist\n",
    "from aisdb.webdata.shore_dist import PortDist\n",
    "from datetime import datetime, timedelta\n",
    "from aisdb.gis import DomainFromTxts\n",
    "from aisdb.database import sqlfcn_callbacks\n",
    "from shapely import prepare\n",
    "from PIL import ImageFile\n",
    "from tqdm import tqdm\n",
    "nest_asyncio.apply()\n",
    "ImageFile.LOAD_TRUNCATED_IMAGES = True\n",
    "from aisdb.weather.era5 import ClimateDataStore # for weather\n"
   ]
  },
  {
   "cell_type": "code",
   "execution_count": null,
   "metadata": {
    "vscode": {
     "languageId": "plaintext"
    }
   },
   "outputs": [],
   "source": [
    "\n",
    "os.environ[\"CDSAPI_URL\"] = \"https://cds.climate.copernicus.eu/api/v2\"\n",
    "os.environ[\"CDSAPI_KEY\"] = \"7b09e7d6-1d93-4586-96be-0f31464d3b92\""
   ]
  },
  {
   "cell_type": "code",
   "execution_count": null,
   "metadata": {
    "vscode": {
     "languageId": "plaintext"
    }
   },
   "outputs": [],
   "source": [
    "# >>> PostgreSQL Information <<<\n",
    "db_user='<user-name>'            # DB User\n",
    "db_dbname='aisviz'         # DB Schema\n",
    "db_password='<password>'    # DB Password\n",
    "db_hostaddr='127.0.0.1'    # DB Host address\n",
    "\n",
    "dbconn = PostgresDBConn(\n",
    "    port=5555,             # PostgreSQL port\n",
    "    user=db_user,          # PostgreSQL username\n",
    "    dbname=db_dbname,      # PostgreSQL database\n",
    "    host=db_hostaddr,      # PostgreSQL address\n",
    "    password=db_password,  # PostgreSQL password\n",
    ")"
   ]
  },
  {
   "cell_type": "code",
   "execution_count": null,
   "metadata": {
    "vscode": {
     "languageId": "plaintext"
    }
   },
   "outputs": [],
   "source": [
    "xmin, ymin, xmax, ymax = -70, 45, -58, 53\n",
    "gulf_bbox = [xmin, xmax, ymin, ymax]\n",
    "start_time = datetime(2023, 8, 1)\n",
    "end_time = datetime(2023, 8, 30)\n",
    "\n",
    "qry = DBQuery(\n",
    "    dbconn=dbconn,\n",
    "    start=start_time, end=end_time,\n",
    "    xmin=xmin, xmax=xmax, ymin=ymin, ymax=ymax,\n",
    "    callback=aisdb.database.sqlfcn_callbacks.in_time_bbox_validmmsi\n",
    ")\n",
    "\n",
    "ais_tracks = []\n",
    "rowgen = qry.gen_qry()\n",
    "tracks = aisdb.track_gen.TrackGen(rowgen, decimate=True\")"
   ]
  },
  {
   "cell_type": "code",
   "execution_count": null,
   "metadata": {
    "vscode": {
     "languageId": "plaintext"
    }
   },
   "outputs": [],
   "source": [
    "params_requested = {\n",
    "    \"variable\": \"10m u-component of wind\",\n",
    "    \"start_time\": start_time,\n",
    "    \"end_time\": end_time\n",
    "    \"area\": gulf_bbox\n",
    "}\n",
    "\n",
    "fetcher = FetchClimateData(dataset, params_requested, output_path=\"climate_data.grib\")\n",
    "fetcher.fetch_data()"
   ]
  }
 ],
 "metadata": {
  "language_info": {
   "name": "python"
  }
 },
 "nbformat": 4,
 "nbformat_minor": 2
}
