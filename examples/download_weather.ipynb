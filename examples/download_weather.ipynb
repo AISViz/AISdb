{
 "cells": [
  {
   "cell_type": "code",
   "execution_count": null,
   "metadata": {},
   "outputs": [],
   "source": [
    "import aisdb\n",
    "from aisdb import DBQuery\n",
    "from aisdb.database.dbconn import PostgresDBConn\n",
    "from datetime import datetime\n",
    "from aisdb.weather.weather_fetch import ClimateDataStore # for weather"
   ]
  },
  {
   "cell_type": "code",
   "execution_count": null,
   "metadata": {},
   "outputs": [],
   "source": [
    "# >>> PostgreSQL Information <<<\n",
    "db_user='<>'           # DB User\n",
    "db_dbname='<>'         # DB Schema\n",
    "db_password='<>'       # DB Password\n",
    "db_hostaddr='<>'       # DB Host address\n",
    "\n",
    "dbconn = PostgresDBConn(\n",
    "    port=5555,             # PostgreSQL port\n",
    "    user=db_user,          # PostgreSQL username\n",
    "    dbname=db_dbname,      # PostgreSQL database\n",
    "    host=db_hostaddr,      # PostgreSQL address\n",
    "    password=db_password,  # PostgreSQL password\n",
    ")"
   ]
  },
  {
   "cell_type": "code",
   "execution_count": 3,
   "metadata": {},
   "outputs": [],
   "source": [
    "xmin, ymin, xmax, ymax = -70, 45, -58, 53\n",
    "gulf_bbox = [xmin, xmax, ymin, ymax]\n",
    "start_time = datetime(2023, 8, 1)\n",
    "end_time = datetime(2023, 8, 2)\n",
    "\n",
    "qry = DBQuery(\n",
    "    dbconn=dbconn,\n",
    "    start=start_time, end=end_time,\n",
    "    xmin=xmin, xmax=xmax, ymin=ymin, ymax=ymax,\n",
    "    callback=aisdb.database.sqlfcn_callbacks.in_time_bbox_validmmsi\n",
    ")\n",
    "\n",
    "ais_tracks = []\n",
    "rowgen = qry.gen_qry()\n",
    "tracks = aisdb.track_gen.TrackGen(rowgen, decimate=\"True\")"
   ]
  },
  {
   "cell_type": "code",
   "execution_count": null,
   "metadata": {},
   "outputs": [
    {
     "name": "stderr",
     "output_type": "stream",
     "text": [
      "2025-02-14 13:00:24,788 INFO [2024-09-26T00:00:00] Watch our [Forum](https://forum.ecmwf.int/) for Announcements, news and other discussed topics.\n",
      "[2024-09-26T00:00:00] Watch our [Forum](https://forum.ecmwf.int/) for Announcements, news and other discussed topics.\n",
      "2025-02-14 13:00:24,789 WARNING [2024-06-16T00:00:00] CDS API syntax is changed and some keys or parameter names may have also changed. To avoid requests failing, please use the \"Show API request code\" tool on the dataset Download Form to check you are using the correct syntax for your API request.\n",
      "[2024-06-16T00:00:00] CDS API syntax is changed and some keys or parameter names may have also changed. To avoid requests failing, please use the \"Show API request code\" tool on the dataset Download Form to check you are using the correct syntax for your API request.\n",
      "2025-02-14 13:00:25,331 INFO Request ID is 2678c90f-5fe8-4942-8f51-8a20107cb5eb\n",
      "Request ID is 2678c90f-5fe8-4942-8f51-8a20107cb5eb\n",
      "2025-02-14 13:00:25,641 INFO status has been updated to accepted\n",
      "status has been updated to accepted\n",
      "2025-02-14 13:00:34,431 INFO status has been updated to running\n",
      "status has been updated to running\n",
      "2025-02-14 13:00:47,506 INFO status has been updated to successful\n",
      "status has been updated to successful\n",
      "Downloading https://object-store.os-api.cci2.ecmwf.int:443/cci2-prod-cache-1/2025-02-14/4723ff167b84f309345be9a95fc67c64.grib\n",
      "                                                                                           \r"
     ]
    },
    {
     "data": {
      "text/plain": [
       "'climate_data.grib'"
      ]
     },
     "execution_count": 4,
     "metadata": {},
     "output_type": "execute_result"
    }
   ],
   "source": [
    "#old method\n",
    "import cdsapi\n",
    "\n",
    "c = cdsapi.Client()\n",
    "\n",
    "c.retrieve(\n",
    "    'reanalysis-era5-single-levels', \n",
    "    {\n",
    "        'product_type': 'reanalysis',\n",
    "        'format': 'grib',\n",
    "        'variable': '10m_u_component_of_wind', \n",
    "        'area': [53, -70, 45, -58],\n",
    "        'year': '2023',\n",
    "        'month': '08',\n",
    "        'day': '01',\n",
    "        'time': '00:00',\n",
    "    },\n",
    "    'climate_data.grib')  "
   ]
  },
  {
   "cell_type": "code",
   "execution_count": null,
   "metadata": {},
   "outputs": [
    {
     "name": "stderr",
     "output_type": "stream",
     "text": [
      "2025-02-18 18:29:22,969 INFO [2024-09-26T00:00:00] Watch our [Forum](https://forum.ecmwf.int/) for Announcements, news and other discussed topics.\n",
      "[2024-09-26T00:00:00] Watch our [Forum](https://forum.ecmwf.int/) for Announcements, news and other discussed topics.\n",
      "2025-02-18 18:29:22,970 WARNING [2024-06-16T00:00:00] CDS API syntax is changed and some keys or parameter names may have also changed. To avoid requests failing, please use the \"Show API request code\" tool on the dataset Download Form to check you are using the correct syntax for your API request.\n",
      "[2024-06-16T00:00:00] CDS API syntax is changed and some keys or parameter names may have also changed. To avoid requests failing, please use the \"Show API request code\" tool on the dataset Download Form to check you are using the correct syntax for your API request.\n",
      "2025-02-18 18:29:23,729 INFO Request ID is 46b0dac9-0cc4-48af-b6ee-3708a133b88a\n",
      "Request ID is 46b0dac9-0cc4-48af-b6ee-3708a133b88a\n",
      "2025-02-18 18:29:23,876 INFO status has been updated to accepted\n",
      "status has been updated to accepted\n",
      "2025-02-18 18:29:32,622 INFO status has been updated to successful\n",
      "status has been updated to successful\n",
      "Downloading https://object-store.os-api.cci2.ecmwf.int:443/cci2-prod-cache-1/2025-02-18/823d1752d2bb6591fc26069d4e4ce0c8.grib\n",
      "                                                                                          "
     ]
    },
    {
     "name": "stdout",
     "output_type": "stream",
     "text": [
      "Data successfully downloaded to weather_data.grib\n"
     ]
    },
    {
     "name": "stderr",
     "output_type": "stream",
     "text": [
      "\r"
     ]
    }
   ],
   "source": [
    "#new method\n",
    "from aisdb.weather.weather_fetch import ClimateDataStore # for weather\n",
    "\n",
    "climateDataStore = ClimateDataStore(dataset=\"reanalysis-era5-single-levels\", short_names= ['10v','10u'], start_time= start_time, end_time = end_time, area= gulf_bbox)\n",
    "climateDataStore.download_grib_file(output_path=\"/weather_data\")"
   ]
  }
 ],
 "metadata": {
  "kernelspec": {
   "display_name": "venv",
   "language": "python",
   "name": "python3"
  },
  "language_info": {
   "codemirror_mode": {
    "name": "ipython",
    "version": 3
   },
   "file_extension": ".py",
   "mimetype": "text/x-python",
   "name": "python",
   "nbconvert_exporter": "python",
   "pygments_lexer": "ipython3",
   "version": "3.12.3"
  }
 },
 "nbformat": 4,
 "nbformat_minor": 2
}
