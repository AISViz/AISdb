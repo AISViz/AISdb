{
 "cells": [
  {
   "cell_type": "markdown",
   "id": "b2f7bc7a",
   "metadata": {},
   "source": [
    "# Fetch list of all ports for a given bounding box"
   ]
  },
  {
   "cell_type": "code",
   "execution_count": 1,
   "id": "6dea8708",
   "metadata": {},
   "outputs": [
    {
     "name": "stdout",
     "output_type": "stream",
     "text": [
      "Querying WPI with bounds: LATITUDE >= 45.0 AND LATITUDE <= 51.5 AND LONGITUDE >= -71.5 AND LONGITUDE <= -55.0\n",
      "Retrieved 61 ports\n",
      "2 ports with cargo depth in ('A', 'B', 'C', 'D', 'E', 'F')\n"
     ]
    }
   ],
   "source": [
    "from aisdb.ports.api import WorldPortIndexClient # for weather\n",
    "\n",
    "# Initialize the client\n",
    "client = WorldPortIndexClient()\n",
    "\n",
    "# Query Gulf of St. Lawrence region\n",
    "# df_ports = client.fetch_ports(ymin, ymax, xmin, xmax, out_path=\"gulf_ports.csv\") # save out to a file\n",
    "df_ports = client.fetch_ports(\n",
    "    lat_min=45.0,\n",
    "    lat_max=51.5,\n",
    "    lon_min=-71.5,\n",
    "    lon_max=-55.0\n",
    ")\n",
    "# Filter for cargo-capable ports\n",
    "df_cargo = client.filter_by_cargo_depth(df_ports)"
   ]
  },
  {
   "cell_type": "code",
   "execution_count": 2,
   "id": "c71c86b1",
   "metadata": {},
   "outputs": [
    {
     "data": {
      "text/html": [
       "<div>\n",
       "<style scoped>\n",
       "    .dataframe tbody tr th:only-of-type {\n",
       "        vertical-align: middle;\n",
       "    }\n",
       "\n",
       "    .dataframe tbody tr th {\n",
       "        vertical-align: top;\n",
       "    }\n",
       "\n",
       "    .dataframe thead th {\n",
       "        text-align: right;\n",
       "    }\n",
       "</style>\n",
       "<table border=\"1\" class=\"dataframe\">\n",
       "  <thead>\n",
       "    <tr style=\"text-align: right;\">\n",
       "      <th></th>\n",
       "      <th>OBJECTID</th>\n",
       "      <th>INDEX_NO</th>\n",
       "      <th>REGION_NO</th>\n",
       "      <th>PORT_NAME</th>\n",
       "      <th>COUNTRY</th>\n",
       "      <th>LATITUDE</th>\n",
       "      <th>LONGITUDE</th>\n",
       "      <th>PUB</th>\n",
       "      <th>CHART</th>\n",
       "      <th>HARBORSIZE</th>\n",
       "      <th>...</th>\n",
       "      <th>FUEL_OIL</th>\n",
       "      <th>DIESEL</th>\n",
       "      <th>DECKSUPPLY</th>\n",
       "      <th>ENG_SUPPLY</th>\n",
       "      <th>REPAIRCODE</th>\n",
       "      <th>DRYDOCK</th>\n",
       "      <th>RAILWAY</th>\n",
       "      <th>GlobalID</th>\n",
       "      <th>LAT</th>\n",
       "      <th>LON</th>\n",
       "    </tr>\n",
       "  </thead>\n",
       "  <tbody>\n",
       "    <tr>\n",
       "      <th>0</th>\n",
       "      <td>1428</td>\n",
       "      <td>6170</td>\n",
       "      <td>6070</td>\n",
       "      <td>GOLDSBORO</td>\n",
       "      <td>CA</td>\n",
       "      <td>45.183333</td>\n",
       "      <td>-61.650000</td>\n",
       "      <td>145</td>\n",
       "      <td>14100</td>\n",
       "      <td>V</td>\n",
       "      <td>...</td>\n",
       "      <td></td>\n",
       "      <td>Y</td>\n",
       "      <td></td>\n",
       "      <td></td>\n",
       "      <td></td>\n",
       "      <td></td>\n",
       "      <td></td>\n",
       "      <td>a7c4e30c-bf5e-48b7-bfe8-ed51ba5e81c5</td>\n",
       "      <td>45.183333</td>\n",
       "      <td>-61.650000</td>\n",
       "    </tr>\n",
       "    <tr>\n",
       "      <th>1</th>\n",
       "      <td>1429</td>\n",
       "      <td>6190</td>\n",
       "      <td>6070</td>\n",
       "      <td>STORMONT</td>\n",
       "      <td>CA</td>\n",
       "      <td>45.216667</td>\n",
       "      <td>-61.716667</td>\n",
       "      <td>145</td>\n",
       "      <td>14100</td>\n",
       "      <td>V</td>\n",
       "      <td>...</td>\n",
       "      <td></td>\n",
       "      <td></td>\n",
       "      <td></td>\n",
       "      <td></td>\n",
       "      <td></td>\n",
       "      <td></td>\n",
       "      <td></td>\n",
       "      <td>e3cdd0ac-50d0-458a-9237-f621793dc4e1</td>\n",
       "      <td>45.216667</td>\n",
       "      <td>-61.716667</td>\n",
       "    </tr>\n",
       "    <tr>\n",
       "      <th>2</th>\n",
       "      <td>1430</td>\n",
       "      <td>6220</td>\n",
       "      <td>6070</td>\n",
       "      <td>SONORA</td>\n",
       "      <td>CA</td>\n",
       "      <td>45.066667</td>\n",
       "      <td>-61.916667</td>\n",
       "      <td>145</td>\n",
       "      <td>14100</td>\n",
       "      <td>V</td>\n",
       "      <td>...</td>\n",
       "      <td></td>\n",
       "      <td></td>\n",
       "      <td></td>\n",
       "      <td></td>\n",
       "      <td></td>\n",
       "      <td></td>\n",
       "      <td></td>\n",
       "      <td>1d79427d-7193-494c-9c25-9ba414a5e134</td>\n",
       "      <td>45.066667</td>\n",
       "      <td>-61.916667</td>\n",
       "    </tr>\n",
       "    <tr>\n",
       "      <th>3</th>\n",
       "      <td>1438</td>\n",
       "      <td>6500</td>\n",
       "      <td>6070</td>\n",
       "      <td>WINDSOR</td>\n",
       "      <td>CA</td>\n",
       "      <td>45.000000</td>\n",
       "      <td>-64.150000</td>\n",
       "      <td>145</td>\n",
       "      <td>14040</td>\n",
       "      <td>V</td>\n",
       "      <td>...</td>\n",
       "      <td>Y</td>\n",
       "      <td>Y</td>\n",
       "      <td></td>\n",
       "      <td></td>\n",
       "      <td>C</td>\n",
       "      <td></td>\n",
       "      <td></td>\n",
       "      <td>0eb1ef80-d7c9-4b5d-9474-04ebcbee2b18</td>\n",
       "      <td>45.000000</td>\n",
       "      <td>-64.150000</td>\n",
       "    </tr>\n",
       "    <tr>\n",
       "      <th>4</th>\n",
       "      <td>1439</td>\n",
       "      <td>6550</td>\n",
       "      <td>6070</td>\n",
       "      <td>ST JOHN</td>\n",
       "      <td>CA</td>\n",
       "      <td>45.266667</td>\n",
       "      <td>-66.050000</td>\n",
       "      <td>145</td>\n",
       "      <td>14044</td>\n",
       "      <td>M</td>\n",
       "      <td>...</td>\n",
       "      <td>Y</td>\n",
       "      <td>Y</td>\n",
       "      <td>Y</td>\n",
       "      <td>Y</td>\n",
       "      <td>A</td>\n",
       "      <td>L</td>\n",
       "      <td></td>\n",
       "      <td>75723b12-d5dd-4ba7-9136-5e6da2a56aff</td>\n",
       "      <td>45.266667</td>\n",
       "      <td>-66.050000</td>\n",
       "    </tr>\n",
       "  </tbody>\n",
       "</table>\n",
       "<p>5 rows × 76 columns</p>\n",
       "</div>"
      ],
      "text/plain": [
       "   OBJECTID  INDEX_NO  REGION_NO  PORT_NAME COUNTRY   LATITUDE  LONGITUDE  \\\n",
       "0      1428      6170       6070  GOLDSBORO      CA  45.183333 -61.650000   \n",
       "1      1429      6190       6070   STORMONT      CA  45.216667 -61.716667   \n",
       "2      1430      6220       6070     SONORA      CA  45.066667 -61.916667   \n",
       "3      1438      6500       6070    WINDSOR      CA  45.000000 -64.150000   \n",
       "4      1439      6550       6070    ST JOHN      CA  45.266667 -66.050000   \n",
       "\n",
       "   PUB  CHART HARBORSIZE  ... FUEL_OIL DIESEL DECKSUPPLY ENG_SUPPLY  \\\n",
       "0  145  14100          V  ...               Y                         \n",
       "1  145  14100          V  ...                                         \n",
       "2  145  14100          V  ...                                         \n",
       "3  145  14040          V  ...        Y      Y                         \n",
       "4  145  14044          M  ...        Y      Y          Y          Y   \n",
       "\n",
       "  REPAIRCODE DRYDOCK RAILWAY                              GlobalID        LAT  \\\n",
       "0                             a7c4e30c-bf5e-48b7-bfe8-ed51ba5e81c5  45.183333   \n",
       "1                             e3cdd0ac-50d0-458a-9237-f621793dc4e1  45.216667   \n",
       "2                             1d79427d-7193-494c-9c25-9ba414a5e134  45.066667   \n",
       "3          C                  0eb1ef80-d7c9-4b5d-9474-04ebcbee2b18  45.000000   \n",
       "4          A       L          75723b12-d5dd-4ba7-9136-5e6da2a56aff  45.266667   \n",
       "\n",
       "         LON  \n",
       "0 -61.650000  \n",
       "1 -61.716667  \n",
       "2 -61.916667  \n",
       "3 -64.150000  \n",
       "4 -66.050000  \n",
       "\n",
       "[5 rows x 76 columns]"
      ]
     },
     "execution_count": 2,
     "metadata": {},
     "output_type": "execute_result"
    }
   ],
   "source": [
    "df_ports.head(5)"
   ]
  },
  {
   "cell_type": "markdown",
   "id": "b02dfe47",
   "metadata": {},
   "source": [
    "# Get H3 indexes for the ports"
   ]
  },
  {
   "cell_type": "code",
   "execution_count": 3,
   "id": "bda0e7e3",
   "metadata": {},
   "outputs": [],
   "source": [
    "from aisdb.discretize.h3 import Discretizer\n",
    "\n",
    "# Initialize discretizer\n",
    "discretizer = Discretizer(resolution=6)\n",
    "\n",
    "# Rename and cast lat/lon columns\n",
    "df_ports = df_ports.rename(columns={\"LAT\": \"lat\", \"LON\": \"lon\"})\n",
    "df_ports[[\"lat\", \"lon\"]] = df_ports[[\"lat\", \"lon\"]].astype(float)\n",
    "\n",
    "# Apply get_h3_index row-wise\n",
    "df_ports[\"h3_index_res_6\"] = df_ports.apply(lambda row: discretizer.get_h3_index(row[\"lat\"], row[\"lon\"]), axis=1)"
   ]
  },
  {
   "cell_type": "code",
   "execution_count": 4,
   "id": "ac1dd3d8",
   "metadata": {},
   "outputs": [
    {
     "name": "stdout",
     "output_type": "stream",
     "text": [
      "         PORT_NAME        lat        lon   h3_index_res_6 HARBORSIZE\n",
      "0        GOLDSBORO  45.183333 -61.650000  862b2a167ffffff          V\n",
      "1         STORMONT  45.216667 -61.716667  862b2a177ffffff          V\n",
      "2           SONORA  45.066667 -61.916667  862b2a057ffffff          V\n",
      "3          WINDSOR  45.000000 -64.150000  862b016f7ffffff          V\n",
      "4          ST JOHN  45.266667 -66.050000  862b1ca2fffffff          M\n",
      "5  PORT BAYSIDE NB  45.150000 -67.133333  862b1c60fffffff          V\n",
      "6            CANSO  45.333333 -61.000000  862b2859fffffff          V\n",
      "7      DOUGLASTOWN  48.766667 -64.383333  862b30207ffffff          V\n",
      "8         CHANDLER  48.366667 -64.666667  862b3149fffffff          S\n",
      "9         CARAQUET  47.800000 -64.933333  862b06d9fffffff          S\n"
     ]
    }
   ],
   "source": [
    "print(df_ports[[\"PORT_NAME\",\"lat\", \"lon\", \"h3_index_res_6\",\"HARBORSIZE\"]].head(10))"
   ]
  },
  {
   "cell_type": "code",
   "execution_count": 5,
   "id": "534a1b77",
   "metadata": {},
   "outputs": [
    {
     "data": {
      "application/vnd.plotly.v1+json": {
       "config": {
        "plotlyServerURL": "https://plot.ly"
       },
       "data": [
        {
         "hovertemplate": "<b>%{hovertext}</b><br><br>port_name=GOLDSBORO<br>lat=%{lat}<br>lon=%{lon}<extra></extra>",
         "hovertext": [
          "⚓ GOLDSBORO"
         ],
         "lat": {
          "bdata": "oS54d3eXRkA=",
          "dtype": "f8"
         },
         "legendgroup": "GOLDSBORO",
         "lon": {
          "bdata": "OfwyMzPTTsA=",
          "dtype": "f8"
         },
         "marker": {
          "color": "#636efa"
         },
         "mode": "markers",
         "name": "GOLDSBORO",
         "showlegend": true,
         "subplot": "map",
         "type": "scattermap"
        },
        {
         "hovertemplate": "<b>%{hovertext}</b><br><br>port_name=STORMONT<br>lat=%{lat}<br>lon=%{lon}<extra></extra>",
         "hovertext": [
          "⚓ STORMONT"
         ],
         "lat": {
          "bdata": "cqm7u7ubRkA=",
          "dtype": "f8"
         },
         "legendgroup": "STORMONT",
         "lon": {
          "bdata": "XuC7u7vbTsA=",
          "dtype": "f8"
         },
         "marker": {
          "color": "#EF553B"
         },
         "mode": "markers",
         "name": "STORMONT",
         "showlegend": true,
         "subplot": "map",
         "type": "scattermap"
        },
        {
         "hovertemplate": "<b>%{hovertext}</b><br><br>port_name=SONORA<br>lat=%{lat}<br>lon=%{lon}<extra></extra>",
         "hovertext": [
          "⚓ SONORA"
         ],
         "lat": {
          "bdata": "EBuJiIiIRkA=",
          "dtype": "f8"
         },
         "legendgroup": "SONORA",
         "lon": {
          "bdata": "LJ5UVVX1TsA=",
          "dtype": "f8"
         },
         "marker": {
          "color": "#00cc96"
         },
         "mode": "markers",
         "name": "SONORA",
         "showlegend": true,
         "subplot": "map",
         "type": "scattermap"
        },
        {
         "hovertemplate": "<b>%{hovertext}</b><br><br>port_name=WINDSOR<br>lat=%{lat}<br>lon=%{lon}<extra></extra>",
         "hovertext": [
          "⚓ WINDSOR"
         ],
         "lat": {
          "bdata": "+jYAAACARkA=",
          "dtype": "f8"
         },
         "legendgroup": "WINDSOR",
         "lon": {
          "bdata": "++uZmZkJUMA=",
          "dtype": "f8"
         },
         "marker": {
          "color": "#ab63fa"
         },
         "mode": "markers",
         "name": "WINDSOR",
         "showlegend": true,
         "subplot": "map",
         "type": "scattermap"
        },
        {
         "hovertemplate": "<b>%{hovertext}</b><br><br>port_name=ST JOHN<br>lat=%{lat}<br>lon=%{lon}<extra></extra>",
         "hovertext": [
          "⚓ ST JOHN"
         ],
         "lat": {
          "bdata": "7dghIiKiRkA=",
          "dtype": "f8"
         },
         "legendgroup": "ST JOHN",
         "lon": {
          "bdata": "qU4zMzODUMA=",
          "dtype": "f8"
         },
         "marker": {
          "color": "#FFA15A"
         },
         "mode": "markers",
         "name": "ST JOHN",
         "showlegend": true,
         "subplot": "map",
         "type": "scattermap"
        },
        {
         "hovertemplate": "<b>%{hovertext}</b><br><br>port_name=PORT BAYSIDE NB<br>lat=%{lat}<br>lon=%{lon}<extra></extra>",
         "hovertext": [
          "⚓ PORT BAYSIDE NB"
         ],
         "lat": {
          "bdata": "XMUyMzOTRkA=",
          "dtype": "f8"
         },
         "legendgroup": "PORT BAYSIDE NB",
         "lon": {
          "bdata": "FuSIiIjIUMA=",
          "dtype": "f8"
         },
         "marker": {
          "color": "#19d3f3"
         },
         "mode": "markers",
         "name": "PORT BAYSIDE NB",
         "showlegend": true,
         "subplot": "map",
         "type": "scattermap"
        },
        {
         "hovertemplate": "<b>%{hovertext}</b><br><br>port_name=CANSO<br>lat=%{lat}<br>lon=%{lon}<extra></extra>",
         "hovertext": [
          "⚓ CANSO"
         ],
         "lat": {
          "bdata": "A72qqqqqRkA=",
          "dtype": "f8"
         },
         "legendgroup": "CANSO",
         "lon": {
          "bdata": "w6QAAACATsA=",
          "dtype": "f8"
         },
         "marker": {
          "color": "#FF6692"
         },
         "mode": "markers",
         "name": "CANSO",
         "showlegend": true,
         "subplot": "map",
         "type": "scattermap"
        },
        {
         "hovertemplate": "<b>%{hovertext}</b><br><br>port_name=DOUGLASTOWN<br>lat=%{lat}<br>lon=%{lon}<extra></extra>",
         "hovertext": [
          "⚓ DOUGLASTOWN"
         ],
         "lat": {
          "bdata": "xEYiIiJiSEA=",
          "dtype": "f8"
         },
         "legendgroup": "DOUGLASTOWN",
         "lon": {
          "bdata": "jP+IiIgYUMA=",
          "dtype": "f8"
         },
         "marker": {
          "color": "#B6E880"
         },
         "mode": "markers",
         "name": "DOUGLASTOWN",
         "showlegend": true,
         "subplot": "map",
         "type": "scattermap"
        },
        {
         "hovertemplate": "<b>%{hovertext}</b><br><br>port_name=CHANDLER<br>lat=%{lat}<br>lon=%{lon}<extra></extra>",
         "hovertext": [
          "⚓ CHANDLER"
         ],
         "lat": {
          "bdata": "pdzu7u4uSEA=",
          "dtype": "f8"
         },
         "legendgroup": "CHANDLER",
         "lon": {
          "bdata": "oDOqqqoqUMA=",
          "dtype": "f8"
         },
         "marker": {
          "color": "#FF97FF"
         },
         "mode": "markers",
         "name": "CHANDLER",
         "showlegend": true,
         "subplot": "map",
         "type": "scattermap"
        },
        {
         "hovertemplate": "<b>%{hovertext}</b><br><br>port_name=CARAQUET<br>lat=%{lat}<br>lon=%{lon}<extra></extra>",
         "hovertext": [
          "⚓ CARAQUET"
         ],
         "lat": {
          "bdata": "ey9mZmbmR0A=",
          "dtype": "f8"
         },
         "legendgroup": "CARAQUET",
         "lon": {
          "bdata": "0/u7u7s7UMA=",
          "dtype": "f8"
         },
         "marker": {
          "color": "#FECB52"
         },
         "mode": "markers",
         "name": "CARAQUET",
         "showlegend": true,
         "subplot": "map",
         "type": "scattermap"
        },
        {
         "hovertemplate": "<b>%{hovertext}</b><br><br>port_name=SHIPPEGAN<br>lat=%{lat}<br>lon=%{lon}<extra></extra>",
         "hovertext": [
          "⚓ SHIPPEGAN"
         ],
         "lat": {
          "bdata": "AAAAAADgR0A=",
          "dtype": "f8"
         },
         "legendgroup": "SHIPPEGAN",
         "lon": {
          "bdata": "Q+jMzMwsUMA=",
          "dtype": "f8"
         },
         "marker": {
          "color": "#636efa"
         },
         "mode": "markers",
         "name": "SHIPPEGAN",
         "showlegend": true,
         "subplot": "map",
         "type": "scattermap"
        },
        {
         "hovertemplate": "<b>%{hovertext}</b><br><br>port_name=SHEDIAC<br>lat=%{lat}<br>lon=%{lon}<extra></extra>",
         "hovertext": [
          "⚓ SHEDIAC"
         ],
         "lat": {
          "bdata": "mzu7u7sbR0A=",
          "dtype": "f8"
         },
         "legendgroup": "SHEDIAC",
         "lon": {
          "bdata": "EqEzMzMjUMA=",
          "dtype": "f8"
         },
         "marker": {
          "color": "#EF553B"
         },
         "mode": "markers",
         "name": "SHEDIAC",
         "showlegend": true,
         "subplot": "map",
         "type": "scattermap"
        },
        {
         "hovertemplate": "<b>%{hovertext}</b><br><br>port_name=ALBERTON<br>lat=%{lat}<br>lon=%{lon}<extra></extra>",
         "hovertext": [
          "⚓ ALBERTON"
         ],
         "lat": {
          "bdata": "YJ1mZmZmR0A=",
          "dtype": "f8"
         },
         "legendgroup": "ALBERTON",
         "lon": {
          "bdata": "oh9EREQEUMA=",
          "dtype": "f8"
         },
         "marker": {
          "color": "#00cc96"
         },
         "mode": "markers",
         "name": "ALBERTON",
         "showlegend": true,
         "subplot": "map",
         "type": "scattermap"
        },
        {
         "hovertemplate": "<b>%{hovertext}</b><br><br>port_name=GEORGETOWN<br>lat=%{lat}<br>lon=%{lon}<extra></extra>",
         "hovertext": [
          "⚓ GEORGETOWN"
         ],
         "lat": {
          "bdata": "u8B3d3cXR0A=",
          "dtype": "f8"
         },
         "legendgroup": "GEORGETOWN",
         "lon": {
          "bdata": "0XpDRERET8A=",
          "dtype": "f8"
         },
         "marker": {
          "color": "#ab63fa"
         },
         "mode": "markers",
         "name": "GEORGETOWN",
         "showlegend": true,
         "subplot": "map",
         "type": "scattermap"
        },
        {
         "hovertemplate": "<b>%{hovertext}</b><br><br>port_name=SUMMERSIDE<br>lat=%{lat}<br>lon=%{lon}<extra></extra>",
         "hovertext": [
          "⚓ SUMMERSIDE"
         ],
         "lat": {
          "bdata": "MzMzMzMzR0A=",
          "dtype": "f8"
         },
         "legendgroup": "SUMMERSIDE",
         "lon": {
          "bdata": "t+hDRETkT8A=",
          "dtype": "f8"
         },
         "marker": {
          "color": "#FFA15A"
         },
         "mode": "markers",
         "name": "SUMMERSIDE",
         "showlegend": true,
         "subplot": "map",
         "type": "scattermap"
        },
        {
         "hovertemplate": "<b>%{hovertext}</b><br><br>port_name=PICTOU<br>lat=%{lat}<br>lon=%{lon}<extra></extra>",
         "hovertext": [
          "⚓ PICTOU"
         ],
         "lat": {
          "bdata": "C0NVVVXVRkA=",
          "dtype": "f8"
         },
         "legendgroup": "PICTOU",
         "lon": {
          "bdata": "eHK7u7tbT8A=",
          "dtype": "f8"
         },
         "marker": {
          "color": "#19d3f3"
         },
         "mode": "markers",
         "name": "PICTOU",
         "showlegend": true,
         "subplot": "map",
         "type": "scattermap"
        },
        {
         "hovertemplate": "<b>%{hovertext}</b><br><br>port_name=PORT HAWKESBURY<br>lat=%{lat}<br>lon=%{lon}<extra></extra>",
         "hovertext": [
          "⚓ PORT HAWKESBURY"
         ],
         "lat": {
          "bdata": "nxPv7u7ORkA=",
          "dtype": "f8"
         },
         "legendgroup": "PORT HAWKESBURY",
         "lon": {
          "bdata": "q6Xu7u6uTsA=",
          "dtype": "f8"
         },
         "marker": {
          "color": "#FF6692"
         },
         "mode": "markers",
         "name": "PORT HAWKESBURY",
         "showlegend": true,
         "subplot": "map",
         "type": "scattermap"
        },
        {
         "hovertemplate": "<b>%{hovertext}</b><br><br>port_name=PORT HASTINGS<br>lat=%{lat}<br>lon=%{lon}<extra></extra>",
         "hovertext": [
          "⚓ PORT HASTINGS"
         ],
         "lat": {
          "bdata": "cI4yMzPTRkA=",
          "dtype": "f8"
         },
         "legendgroup": "PORT HASTINGS",
         "lon": {
          "bdata": "4g40MzOzTsA=",
          "dtype": "f8"
         },
         "marker": {
          "color": "#B6E880"
         },
         "mode": "markers",
         "name": "PORT HASTINGS",
         "showlegend": true,
         "subplot": "map",
         "type": "scattermap"
        },
        {
         "hovertemplate": "<b>%{hovertext}</b><br><br>port_name=CHETICAMP<br>lat=%{lat}<br>lon=%{lon}<extra></extra>",
         "hovertext": [
          "⚓ CHETICAMP"
         ],
         "lat": {
          "bdata": "VVoRERFRR0A=",
          "dtype": "f8"
         },
         "legendgroup": "CHETICAMP",
         "lon": {
          "bdata": "w6QAAACATsA=",
          "dtype": "f8"
         },
         "marker": {
          "color": "#FF97FF"
         },
         "mode": "markers",
         "name": "CHETICAMP",
         "showlegend": true,
         "subplot": "map",
         "type": "scattermap"
        },
        {
         "hovertemplate": "<b>%{hovertext}</b><br><br>port_name=WHYCOCOMAGH<br>lat=%{lat}<br>lon=%{lon}<extra></extra>",
         "hovertext": [
          "⚓ WHYCOCOMAGH"
         ],
         "lat": {
          "bdata": "Q068u7v7RkA=",
          "dtype": "f8"
         },
         "legendgroup": "WHYCOCOMAGH",
         "lon": {
          "bdata": "in4QERGRTsA=",
          "dtype": "f8"
         },
         "marker": {
          "color": "#FECB52"
         },
         "mode": "markers",
         "name": "WHYCOCOMAGH",
         "showlegend": true,
         "subplot": "map",
         "type": "scattermap"
        },
        {
         "hovertemplate": "<b>%{hovertext}</b><br><br>port_name=GRAND NARROWS<br>lat=%{lat}<br>lon=%{lon}<extra></extra>",
         "hovertext": [
          "⚓ GRAND NARROWS"
         ],
         "lat": {
          "bdata": "mpmZmZn5RkA=",
          "dtype": "f8"
         },
         "legendgroup": "GRAND NARROWS",
         "lon": {
          "bdata": "SzJFRERkTsA=",
          "dtype": "f8"
         },
         "marker": {
          "color": "#636efa"
         },
         "mode": "markers",
         "name": "GRAND NARROWS",
         "showlegend": true,
         "subplot": "map",
         "type": "scattermap"
        },
        {
         "hovertemplate": "<b>%{hovertext}</b><br><br>port_name=LITTLE BRAS D OR<br>lat=%{lat}<br>lon=%{lon}<extra></extra>",
         "hovertext": [
          "⚓ LITTLE BRAS D OR"
         ],
         "lat": {
          "bdata": "0aQAAAAgR0A=",
          "dtype": "f8"
         },
         "legendgroup": "LITTLE BRAS D OR",
         "lon": {
          "bdata": "bS9mZmYmTsA=",
          "dtype": "f8"
         },
         "marker": {
          "color": "#EF553B"
         },
         "mode": "markers",
         "name": "LITTLE BRAS D OR",
         "showlegend": true,
         "subplot": "map",
         "type": "scattermap"
        },
        {
         "hovertemplate": "<b>%{hovertext}</b><br><br>port_name=NORTH SYDNEY<br>lat=%{lat}<br>lon=%{lon}<extra></extra>",
         "hovertext": [
          "⚓ NORTH SYDNEY"
         ],
         "lat": {
          "bdata": "mzu7u7sbR0A=",
          "dtype": "f8"
         },
         "legendgroup": "NORTH SYDNEY",
         "lon": {
          "bdata": "8v////8fTsA=",
          "dtype": "f8"
         },
         "marker": {
          "color": "#00cc96"
         },
         "mode": "markers",
         "name": "NORTH SYDNEY",
         "showlegend": true,
         "subplot": "map",
         "type": "scattermap"
        },
        {
         "hovertemplate": "<b>%{hovertext}</b><br><br>port_name=ARICHAT<br>lat=%{lat}<br>lon=%{lon}<extra></extra>",
         "hovertext": [
          "⚓ ARICHAT"
         ],
         "lat": {
          "bdata": "qbQiIiLCRkA=",
          "dtype": "f8"
         },
         "legendgroup": "ARICHAT",
         "lon": {
          "bdata": "+WohIiKCTsA=",
          "dtype": "f8"
         },
         "marker": {
          "color": "#ab63fa"
         },
         "mode": "markers",
         "name": "ARICHAT",
         "showlegend": true,
         "subplot": "map",
         "type": "scattermap"
        },
        {
         "hovertemplate": "<b>%{hovertext}</b><br><br>port_name=GUYSBOROUGH<br>lat=%{lat}<br>lon=%{lon}<extra></extra>",
         "hovertext": [
          "⚓ GUYSBOROUGH"
         ],
         "lat": {
          "bdata": "GaEzMzOzRkA=",
          "dtype": "f8"
         },
         "legendgroup": "GUYSBOROUGH",
         "lon": {
          "bdata": "120AAADATsA=",
          "dtype": "f8"
         },
         "marker": {
          "color": "#FFA15A"
         },
         "mode": "markers",
         "name": "GUYSBOROUGH",
         "showlegend": true,
         "subplot": "map",
         "type": "scattermap"
        },
        {
         "hovertemplate": "<b>%{hovertext}</b><br><br>port_name=GASPE<br>lat=%{lat}<br>lon=%{lon}<extra></extra>",
         "hovertext": [
          "⚓ GASPE"
         ],
         "lat": {
          "bdata": "2iqrqqpqSEA=",
          "dtype": "f8"
         },
         "legendgroup": "GASPE",
         "lon": {
          "bdata": "By/v7u4eUMA=",
          "dtype": "f8"
         },
         "marker": {
          "color": "#19d3f3"
         },
         "mode": "markers",
         "name": "GASPE",
         "showlegend": true,
         "subplot": "map",
         "type": "scattermap"
        },
        {
         "hovertemplate": "<b>%{hovertext}</b><br><br>port_name=RIMOUSKI<br>lat=%{lat}<br>lon=%{lon}<extra></extra>",
         "hovertext": [
          "⚓ RIMOUSKI"
         ],
         "lat": {
          "bdata": "ZHWamZk5SEA=",
          "dtype": "f8"
         },
         "legendgroup": "RIMOUSKI",
         "lon": {
          "bdata": "5QcREREhUcA=",
          "dtype": "f8"
         },
         "marker": {
          "color": "#FF6692"
         },
         "mode": "markers",
         "name": "RIMOUSKI",
         "showlegend": true,
         "subplot": "map",
         "type": "scattermap"
        },
        {
         "hovertemplate": "<b>%{hovertext}</b><br><br>port_name=CHICOUTIMI (PORT SAGUENAY)<br>lat=%{lat}<br>lon=%{lon}<extra></extra>",
         "hovertext": [
          "⚓ CHICOUTIMI (PORT SAGUENAY)"
         ],
         "lat": {
          "bdata": "u8B3d3c3SEA=",
          "dtype": "f8"
         },
         "legendgroup": "CHICOUTIMI (PORT SAGUENAY)",
         "lon": {
          "bdata": "gY1ERETEUcA=",
          "dtype": "f8"
         },
         "marker": {
          "color": "#B6E880"
         },
         "mode": "markers",
         "name": "CHICOUTIMI (PORT SAGUENAY)",
         "showlegend": true,
         "subplot": "map",
         "type": "scattermap"
        },
        {
         "hovertemplate": "<b>%{hovertext}</b><br><br>port_name=CANAPORT (ST. JOHN)<br>lat=%{lat}<br>lon=%{lon}<extra></extra>",
         "hovertext": [
          "⚓ CANAPORT (ST. JOHN)"
         ],
         "lat": {
          "bdata": "1/SYmZmZRkA=",
          "dtype": "f8"
         },
         "legendgroup": "CANAPORT (ST. JOHN)",
         "lon": {
          "bdata": "ntzu7u5+UMA=",
          "dtype": "f8"
         },
         "marker": {
          "color": "#FF97FF"
         },
         "mode": "markers",
         "name": "CANAPORT (ST. JOHN)",
         "showlegend": true,
         "subplot": "map",
         "type": "scattermap"
        },
        {
         "hovertemplate": "<b>%{hovertext}</b><br><br>port_name=WHITEHAVEN HARBOR<br>lat=%{lat}<br>lon=%{lon}<extra></extra>",
         "hovertext": [
          "⚓ WHITEHAVEN HARBOR"
         ],
         "lat": {
          "bdata": "DV7e3d2dRkA=",
          "dtype": "f8"
         },
         "legendgroup": "WHITEHAVEN HARBOR",
         "lon": {
          "bdata": "Ba52d3eXTsA=",
          "dtype": "f8"
         },
         "marker": {
          "color": "#FECB52"
         },
         "mode": "markers",
         "name": "WHITEHAVEN HARBOR",
         "showlegend": true,
         "subplot": "map",
         "type": "scattermap"
        },
        {
         "hovertemplate": "<b>%{hovertext}</b><br><br>port_name=GRAND BANK<br>lat=%{lat}<br>lon=%{lon}<extra></extra>",
         "hovertext": [
          "⚓ GRAND BANK"
         ],
         "lat": {
          "bdata": "iqjNzMyMR0A=",
          "dtype": "f8"
         },
         "legendgroup": "GRAND BANK",
         "lon": {
          "bdata": "8v/////fS8A=",
          "dtype": "f8"
         },
         "marker": {
          "color": "#636efa"
         },
         "mode": "markers",
         "name": "GRAND BANK",
         "showlegend": true,
         "subplot": "map",
         "type": "scattermap"
        },
        {
         "hovertemplate": "<b>%{hovertext}</b><br><br>port_name=PORT AUX BASQUES<br>lat=%{lat}<br>lon=%{lon}<extra></extra>",
         "hovertext": [
          "⚓ PORT AUX BASQUES"
         ],
         "lat": {
          "bdata": "WQiIiIjIR0A=",
          "dtype": "f8"
         },
         "legendgroup": "PORT AUX BASQUES",
         "lon": {
          "bdata": "R1oRERGRTcA=",
          "dtype": "f8"
         },
         "marker": {
          "color": "#EF553B"
         },
         "mode": "markers",
         "name": "PORT AUX BASQUES",
         "showlegend": true,
         "subplot": "map",
         "type": "scattermap"
        },
        {
         "hovertemplate": "<b>%{hovertext}</b><br><br>port_name=STEPHENVILLE<br>lat=%{lat}<br>lon=%{lon}<extra></extra>",
         "hovertext": [
          "⚓ STEPHENVILLE"
         ],
         "lat": {
          "bdata": "sR9ERERESEA=",
          "dtype": "f8"
         },
         "legendgroup": "STEPHENVILLE",
         "lon": {
          "bdata": "SzJFRERETcA=",
          "dtype": "f8"
         },
         "marker": {
          "color": "#00cc96"
         },
         "mode": "markers",
         "name": "STEPHENVILLE",
         "showlegend": true,
         "subplot": "map",
         "type": "scattermap"
        },
        {
         "hovertemplate": "<b>%{hovertext}</b><br><br>port_name=ST GEORGE'S<br>lat=%{lat}<br>lon=%{lon}<extra></extra>",
         "hovertext": [
          "⚓ ST GEORGE'S"
         ],
         "lat": {
          "bdata": "ZHWamZk5SEA=",
          "dtype": "f8"
         },
         "legendgroup": "ST GEORGE'S",
         "lon": {
          "bdata": "jJmZmZk5TcA=",
          "dtype": "f8"
         },
         "marker": {
          "color": "#ab63fa"
         },
         "mode": "markers",
         "name": "ST GEORGE'S",
         "showlegend": true,
         "subplot": "map",
         "type": "scattermap"
        },
        {
         "hovertemplate": "<b>%{hovertext}</b><br><br>port_name=CORNER BROOK<br>lat=%{lat}<br>lon=%{lon}<extra></extra>",
         "hovertext": [
          "⚓ CORNER BROOK"
         ],
         "lat": {
          "bdata": "az6amZl5SEA=",
          "dtype": "f8"
         },
         "legendgroup": "CORNER BROOK",
         "lon": {
          "bdata": "hdCZmZn5TMA=",
          "dtype": "f8"
         },
         "marker": {
          "color": "#FFA15A"
         },
         "mode": "markers",
         "name": "CORNER BROOK",
         "showlegend": true,
         "subplot": "map",
         "type": "scattermap"
        },
        {
         "hovertemplate": "<b>%{hovertext}</b><br><br>port_name=BLANC SABLON<br>lat=%{lat}<br>lon=%{lon}<extra></extra>",
         "hovertext": [
          "⚓ BLANC SABLON"
         ],
         "lat": {
          "bdata": "47BVVVW1SUA=",
          "dtype": "f8"
         },
         "legendgroup": "BLANC SABLON",
         "lon": {
          "bdata": "nkcQERGRTMA=",
          "dtype": "f8"
         },
         "marker": {
          "color": "#19d3f3"
         },
         "mode": "markers",
         "name": "BLANC SABLON",
         "showlegend": true,
         "subplot": "map",
         "type": "scattermap"
        },
        {
         "hovertemplate": "<b>%{hovertext}</b><br><br>port_name=HAVRE ST PIERRE<br>lat=%{lat}<br>lon=%{lon}<extra></extra>",
         "hovertext": [
          "⚓ HAVRE ST PIERRE"
         ],
         "lat": {
          "bdata": "ISfe3d0dSUA=",
          "dtype": "f8"
         },
         "legendgroup": "HAVRE ST PIERRE",
         "lon": {
          "bdata": "AvHLzMzMT8A=",
          "dtype": "f8"
         },
         "marker": {
          "color": "#FF6692"
         },
         "mode": "markers",
         "name": "HAVRE ST PIERRE",
         "showlegend": true,
         "subplot": "map",
         "type": "scattermap"
        },
        {
         "hovertemplate": "<b>%{hovertext}</b><br><br>port_name=POINTE NOIRE<br>lat=%{lat}<br>lon=%{lon}<extra></extra>",
         "hovertext": [
          "⚓ POINTE NOIRE"
         ],
         "lat": {
          "bdata": "C0NVVVUVSUA=",
          "dtype": "f8"
         },
         "legendgroup": "POINTE NOIRE",
         "lon": {
          "bdata": "IcHu7u6eUMA=",
          "dtype": "f8"
         },
         "marker": {
          "color": "#B6E880"
         },
         "mode": "markers",
         "name": "POINTE NOIRE",
         "showlegend": true,
         "subplot": "map",
         "type": "scattermap"
        },
        {
         "hovertemplate": "<b>%{hovertext}</b><br><br>port_name=PORT CARTIER<br>lat=%{lat}<br>lon=%{lon}<extra></extra>",
         "hovertext": [
          "⚓ PORT CARTIER"
         ],
         "lat": {
          "bdata": "33pDREQESUA=",
          "dtype": "f8"
         },
         "legendgroup": "PORT CARTIER",
         "lon": {
          "bdata": "vUYiIiKyUMA=",
          "dtype": "f8"
         },
         "marker": {
          "color": "#FF97FF"
         },
         "mode": "markers",
         "name": "PORT CARTIER",
         "showlegend": true,
         "subplot": "map",
         "type": "scattermap"
        },
        {
         "hovertemplate": "<b>%{hovertext}</b><br><br>port_name=MATANE<br>lat=%{lat}<br>lon=%{lon}<extra></extra>",
         "hovertext": [
          "⚓ MATANE"
         ],
         "lat": {
          "bdata": "HvHLzMxsSEA=",
          "dtype": "f8"
         },
         "legendgroup": "MATANE",
         "lon": {
          "bdata": "JZkiIiLiUMA=",
          "dtype": "f8"
         },
         "marker": {
          "color": "#FECB52"
         },
         "mode": "markers",
         "name": "MATANE",
         "showlegend": true,
         "subplot": "map",
         "type": "scattermap"
        },
        {
         "hovertemplate": "<b>%{hovertext}</b><br><br>port_name=BAIE COMEAU<br>lat=%{lat}<br>lon=%{lon}<extra></extra>",
         "hovertext": [
          "⚓ BAIE COMEAU"
         ],
         "lat": {
          "bdata": "+ZTe3d2dSEA=",
          "dtype": "f8"
         },
         "legendgroup": "BAIE COMEAU",
         "lon": {
          "bdata": "I62IiIgIUcA=",
          "dtype": "f8"
         },
         "marker": {
          "color": "#636efa"
         },
         "mode": "markers",
         "name": "BAIE COMEAU",
         "showlegend": true,
         "subplot": "map",
         "type": "scattermap"
        },
        {
         "hovertemplate": "<b>%{hovertext}</b><br><br>port_name=TADOUSSAC<br>lat=%{lat}<br>lon=%{lon}<extra></extra>",
         "hovertext": [
          "⚓ TADOUSSAC"
         ],
         "lat": {
          "bdata": "LWozMzMTSEA=",
          "dtype": "f8"
         },
         "legendgroup": "TADOUSSAC",
         "lon": {
          "bdata": "Gife3d1tUcA=",
          "dtype": "f8"
         },
         "marker": {
          "color": "#EF553B"
         },
         "mode": "markers",
         "name": "TADOUSSAC",
         "showlegend": true,
         "subplot": "map",
         "type": "scattermap"
        },
        {
         "hovertemplate": "<b>%{hovertext}</b><br><br>port_name=LA BAIE (PORT ALFRED)<br>lat=%{lat}<br>lon=%{lon}<extra></extra>",
         "hovertext": [
          "⚓ LA BAIE (PORT ALFRED)"
         ],
         "lat": {
          "bdata": "1GGrqqoqSEA=",
          "dtype": "f8"
         },
         "legendgroup": "LA BAIE (PORT ALFRED)",
         "lon": {
          "bdata": "rZGIiIi4UcA=",
          "dtype": "f8"
         },
         "marker": {
          "color": "#00cc96"
         },
         "mode": "markers",
         "name": "LA BAIE (PORT ALFRED)",
         "showlegend": true,
         "subplot": "map",
         "type": "scattermap"
        },
        {
         "hovertemplate": "<b>%{hovertext}</b><br><br>port_name=RIVIERE DU LOUP<br>lat=%{lat}<br>lon=%{lon}<extra></extra>",
         "hovertext": [
          "⚓ RIVIERE DU LOUP"
         ],
         "lat": {
          "bdata": "v5irqqrqR0A=",
          "dtype": "f8"
         },
         "legendgroup": "RIVIERE DU LOUP",
         "lon": {
          "bdata": "+dAQERFhUcA=",
          "dtype": "f8"
         },
         "marker": {
          "color": "#ab63fa"
         },
         "mode": "markers",
         "name": "RIVIERE DU LOUP",
         "showlegend": true,
         "subplot": "map",
         "type": "scattermap"
        },
        {
         "hovertemplate": "<b>%{hovertext}</b><br><br>port_name=QUEBEC<br>lat=%{lat}<br>lon=%{lon}<extra></extra>",
         "hovertext": [
          "⚓ QUEBEC"
         ],
         "lat": {
          "bdata": "+1GJiIhoR0A=",
          "dtype": "f8"
         },
         "legendgroup": "QUEBEC",
         "lon": {
          "bdata": "stTd3d3NUcA=",
          "dtype": "f8"
         },
         "marker": {
          "color": "#FFA15A"
         },
         "mode": "markers",
         "name": "QUEBEC",
         "showlegend": true,
         "subplot": "map",
         "type": "scattermap"
        },
        {
         "hovertemplate": "<b>%{hovertext}</b><br><br>port_name=SYDNEY<br>lat=%{lat}<br>lon=%{lon}<extra></extra>",
         "hovertext": [
          "⚓ SYDNEY"
         ],
         "lat": {
          "bdata": "hFcyMzMTR0A=",
          "dtype": "f8"
         },
         "legendgroup": "SYDNEY",
         "lon": {
          "bdata": "hdCZmZkZTsA=",
          "dtype": "f8"
         },
         "marker": {
          "color": "#19d3f3"
         },
         "mode": "markers",
         "name": "SYDNEY",
         "showlegend": true,
         "subplot": "map",
         "type": "scattermap"
        },
        {
         "hovertemplate": "<b>%{hovertext}</b><br><br>port_name=LOUISBURG<br>lat=%{lat}<br>lon=%{lon}<extra></extra>",
         "hovertext": [
          "⚓ LOUISBURG"
         ],
         "lat": {
          "bdata": "yB5WVVX1RkA=",
          "dtype": "f8"
         },
         "legendgroup": "LOUISBURG",
         "lon": {
          "bdata": "ZKm7u7v7TcA=",
          "dtype": "f8"
         },
         "marker": {
          "color": "#FF6692"
         },
         "mode": "markers",
         "name": "LOUISBURG",
         "showlegend": true,
         "subplot": "map",
         "type": "scattermap"
        },
        {
         "hovertemplate": "<b>%{hovertext}</b><br><br>port_name=SOURIS HARBOUR<br>lat=%{lat}<br>lon=%{lon}<extra></extra>",
         "hovertext": [
          "⚓ SOURIS HARBOUR"
         ],
         "lat": {
          "bdata": "xwPNzMwsR0A=",
          "dtype": "f8"
         },
         "legendgroup": "SOURIS HARBOUR",
         "lon": {
          "bdata": "QyT///8fT8A=",
          "dtype": "f8"
         },
         "marker": {
          "color": "#B6E880"
         },
         "mode": "markers",
         "name": "SOURIS HARBOUR",
         "showlegend": true,
         "subplot": "map",
         "type": "scattermap"
        },
        {
         "hovertemplate": "<b>%{hovertext}</b><br><br>port_name=CHARLOTTETOWN<br>lat=%{lat}<br>lon=%{lon}<extra></extra>",
         "hovertext": [
          "⚓ CHARLOTTETOWN"
         ],
         "lat": {
          "bdata": "NvDd3d0dR0A=",
          "dtype": "f8"
         },
         "legendgroup": "CHARLOTTETOWN",
         "lon": {
          "bdata": "MpERERGRT8A=",
          "dtype": "f8"
         },
         "marker": {
          "color": "#FF97FF"
         },
         "mode": "markers",
         "name": "CHARLOTTETOWN",
         "showlegend": true,
         "subplot": "map",
         "type": "scattermap"
        },
        {
         "hovertemplate": "<b>%{hovertext}</b><br><br>port_name=DALHOUSIE<br>lat=%{lat}<br>lon=%{lon}<extra></extra>",
         "hovertext": [
          "⚓ DALHOUSIE"
         ],
         "lat": {
          "bdata": "btGHiIgISEA=",
          "dtype": "f8"
         },
         "legendgroup": "DALHOUSIE",
         "lon": {
          "bdata": "WTd3d3eXUMA=",
          "dtype": "f8"
         },
         "marker": {
          "color": "#FECB52"
         },
         "mode": "markers",
         "name": "DALHOUSIE",
         "showlegend": true,
         "subplot": "map",
         "type": "scattermap"
        },
        {
         "hovertemplate": "<b>%{hovertext}</b><br><br>port_name=MINGAN<br>lat=%{lat}<br>lon=%{lon}<extra></extra>",
         "hovertext": [
          "⚓ MINGAN"
         ],
         "lat": {
          "bdata": "nFZEREQkSUA=",
          "dtype": "f8"
         },
         "legendgroup": "MINGAN",
         "lon": {
          "bdata": "5QcREREBUMA=",
          "dtype": "f8"
         },
         "marker": {
          "color": "#636efa"
         },
         "mode": "markers",
         "name": "MINGAN",
         "showlegend": true,
         "subplot": "map",
         "type": "scattermap"
        },
        {
         "hovertemplate": "<b>%{hovertext}</b><br><br>port_name=SEPT ILES<br>lat=%{lat}<br>lon=%{lon}<extra></extra>",
         "hovertext": [
          "⚓ SEPT ILES"
         ],
         "lat": {
          "bdata": "672YmZkZSUA=",
          "dtype": "f8"
         },
         "legendgroup": "SEPT ILES",
         "lon": {
          "bdata": "rZGIiIiYUMA=",
          "dtype": "f8"
         },
         "marker": {
          "color": "#EF553B"
         },
         "mode": "markers",
         "name": "SEPT ILES",
         "showlegend": true,
         "subplot": "map",
         "type": "scattermap"
        },
        {
         "hovertemplate": "<b>%{hovertext}</b><br><br>port_name=BURGEO<br>lat=%{lat}<br>lon=%{lon}<extra></extra>",
         "hovertext": [
          "⚓ BURGEO"
         ],
         "lat": {
          "bdata": "nnHNzMzMR0A=",
          "dtype": "f8"
         },
         "legendgroup": "BURGEO",
         "lon": {
          "bdata": "fErv7u7OTMA=",
          "dtype": "f8"
         },
         "marker": {
          "color": "#00cc96"
         },
         "mode": "markers",
         "name": "BURGEO",
         "showlegend": true,
         "subplot": "map",
         "type": "scattermap"
        },
        {
         "hovertemplate": "<b>%{hovertext}</b><br><br>port_name=PORT DE ST PIERRE<br>lat=%{lat}<br>lon=%{lon}<extra></extra>",
         "hovertext": [
          "⚓ PORT DE ST PIERRE"
         ],
         "lat": {
          "bdata": "xehDRERkR0A=",
          "dtype": "f8"
         },
         "legendgroup": "PORT DE ST PIERRE",
         "lon": {
          "bdata": "uh5WVVUVTMA=",
          "dtype": "f8"
         },
         "marker": {
          "color": "#ab63fa"
         },
         "mode": "markers",
         "name": "PORT DE ST PIERRE",
         "showlegend": true,
         "subplot": "map",
         "type": "scattermap"
        },
        {
         "hovertemplate": "<b>%{hovertext}</b><br><br>port_name=FORTUNE HARBOR<br>lat=%{lat}<br>lon=%{lon}<extra></extra>",
         "hovertext": [
          "⚓ FORTUNE HARBOR"
         ],
         "lat": {
          "bdata": "y7FDRETESEA=",
          "dtype": "f8"
         },
         "legendgroup": "FORTUNE HARBOR",
         "lon": {
          "bdata": "QoLd3d2dS8A=",
          "dtype": "f8"
         },
         "marker": {
          "color": "#FFA15A"
         },
         "mode": "markers",
         "name": "FORTUNE HARBOR",
         "showlegend": true,
         "subplot": "map",
         "type": "scattermap"
        },
        {
         "hovertemplate": "<b>%{hovertext}</b><br><br>port_name=SPRINGDALE<br>lat=%{lat}<br>lon=%{lon}<extra></extra>",
         "hovertext": [
          "⚓ SPRINGDALE"
         ],
         "lat": {
          "bdata": "+jYAAADASEA=",
          "dtype": "f8"
         },
         "legendgroup": "SPRINGDALE",
         "lon": {
          "bdata": "btGHiIgITMA=",
          "dtype": "f8"
         },
         "marker": {
          "color": "#19d3f3"
         },
         "mode": "markers",
         "name": "SPRINGDALE",
         "showlegend": true,
         "subplot": "map",
         "type": "scattermap"
        },
        {
         "hovertemplate": "<b>%{hovertext}</b><br><br>port_name=CONCHE<br>lat=%{lat}<br>lon=%{lon}<extra></extra>",
         "hovertext": [
          "⚓ CONCHE"
         ],
         "lat": {
          "bdata": "mH4QERFxSUA=",
          "dtype": "f8"
         },
         "legendgroup": "CONCHE",
         "lon": {
          "bdata": "Yo4yMzPzS8A=",
          "dtype": "f8"
         },
         "marker": {
          "color": "#FF6692"
         },
         "mode": "markers",
         "name": "CONCHE",
         "showlegend": true,
         "subplot": "map",
         "type": "scattermap"
        },
        {
         "hovertemplate": "<b>%{hovertext}</b><br><br>port_name=RODDICKTON<br>lat=%{lat}<br>lon=%{lon}<extra></extra>",
         "hovertext": [
          "⚓ RODDICKTON"
         ],
         "lat": {
          "bdata": "Yrjv7u5uSUA=",
          "dtype": "f8"
         },
         "legendgroup": "RODDICKTON",
         "lon": {
          "bdata": "hLUQERERTMA=",
          "dtype": "f8"
         },
         "marker": {
          "color": "#B6E880"
         },
         "mode": "markers",
         "name": "RODDICKTON",
         "showlegend": true,
         "subplot": "map",
         "type": "scattermap"
        },
        {
         "hovertemplate": "<b>%{hovertext}</b><br><br>port_name=WESTPORT COVE<br>lat=%{lat}<br>lon=%{lon}<extra></extra>",
         "hovertext": [
          "⚓ WESTPORT COVE"
         ],
         "lat": {
          "bdata": "iI1ERETkSEA=",
          "dtype": "f8"
         },
         "legendgroup": "WESTPORT COVE",
         "lon": {
          "bdata": "VLjv7u5OTMA=",
          "dtype": "f8"
         },
         "marker": {
          "color": "#FF97FF"
         },
         "mode": "markers",
         "name": "WESTPORT COVE",
         "showlegend": true,
         "subplot": "map",
         "type": "scattermap"
        },
        {
         "hovertemplate": "<b>%{hovertext}</b><br><br>port_name=SEAL COVE<br>lat=%{lat}<br>lon=%{lon}<extra></extra>",
         "hovertext": [
          "⚓ SEAL COVE"
         ],
         "lat": {
          "bdata": "6ht3d3f3SEA=",
          "dtype": "f8"
         },
         "legendgroup": "SEAL COVE",
         "lon": {
          "bdata": "MpERERExTMA=",
          "dtype": "f8"
         },
         "marker": {
          "color": "#FECB52"
         },
         "mode": "markers",
         "name": "SEAL COVE",
         "showlegend": true,
         "subplot": "map",
         "type": "scattermap"
        },
        {
         "hovertemplate": "<b>%{hovertext}</b><br><br>port_name=LITTLE BAY<br>lat=%{lat}<br>lon=%{lon}<extra></extra>",
         "hovertext": [
          "⚓ LITTLE BAY"
         ],
         "lat": {
          "bdata": "ikrv7u7OSEA=",
          "dtype": "f8"
         },
         "legendgroup": "LITTLE BAY",
         "lon": {
          "bdata": "vdsAAAAATMA=",
          "dtype": "f8"
         },
         "marker": {
          "color": "#636efa"
         },
         "mode": "markers",
         "name": "LITTLE BAY",
         "showlegend": true,
         "subplot": "map",
         "type": "scattermap"
        }
       ],
       "layout": {
        "height": 700,
        "legend": {
         "title": {
          "text": "⚓ Ports"
         },
         "tracegroupgap": 0
        },
        "map": {
         "center": {
          "lat": 47.522677595679795,
          "lon": -62.44562841533053
         },
         "domain": {
          "x": [
           0,
           1
          ],
          "y": [
           0,
           1
          ]
         },
         "zoom": 5
        },
        "mapbox": {
         "center": {
          "lat": 47.522677595679795,
          "lon": -62.44562841533053
         },
         "style": "open-street-map",
         "zoom": 5
        },
        "margin": {
         "b": 0,
         "l": 0,
         "r": 0,
         "t": 0
        },
        "template": {
         "data": {
          "bar": [
           {
            "error_x": {
             "color": "#2a3f5f"
            },
            "error_y": {
             "color": "#2a3f5f"
            },
            "marker": {
             "line": {
              "color": "#E5ECF6",
              "width": 0.5
             },
             "pattern": {
              "fillmode": "overlay",
              "size": 10,
              "solidity": 0.2
             }
            },
            "type": "bar"
           }
          ],
          "barpolar": [
           {
            "marker": {
             "line": {
              "color": "#E5ECF6",
              "width": 0.5
             },
             "pattern": {
              "fillmode": "overlay",
              "size": 10,
              "solidity": 0.2
             }
            },
            "type": "barpolar"
           }
          ],
          "carpet": [
           {
            "aaxis": {
             "endlinecolor": "#2a3f5f",
             "gridcolor": "white",
             "linecolor": "white",
             "minorgridcolor": "white",
             "startlinecolor": "#2a3f5f"
            },
            "baxis": {
             "endlinecolor": "#2a3f5f",
             "gridcolor": "white",
             "linecolor": "white",
             "minorgridcolor": "white",
             "startlinecolor": "#2a3f5f"
            },
            "type": "carpet"
           }
          ],
          "choropleth": [
           {
            "colorbar": {
             "outlinewidth": 0,
             "ticks": ""
            },
            "type": "choropleth"
           }
          ],
          "contour": [
           {
            "colorbar": {
             "outlinewidth": 0,
             "ticks": ""
            },
            "colorscale": [
             [
              0,
              "#0d0887"
             ],
             [
              0.1111111111111111,
              "#46039f"
             ],
             [
              0.2222222222222222,
              "#7201a8"
             ],
             [
              0.3333333333333333,
              "#9c179e"
             ],
             [
              0.4444444444444444,
              "#bd3786"
             ],
             [
              0.5555555555555556,
              "#d8576b"
             ],
             [
              0.6666666666666666,
              "#ed7953"
             ],
             [
              0.7777777777777778,
              "#fb9f3a"
             ],
             [
              0.8888888888888888,
              "#fdca26"
             ],
             [
              1,
              "#f0f921"
             ]
            ],
            "type": "contour"
           }
          ],
          "contourcarpet": [
           {
            "colorbar": {
             "outlinewidth": 0,
             "ticks": ""
            },
            "type": "contourcarpet"
           }
          ],
          "heatmap": [
           {
            "colorbar": {
             "outlinewidth": 0,
             "ticks": ""
            },
            "colorscale": [
             [
              0,
              "#0d0887"
             ],
             [
              0.1111111111111111,
              "#46039f"
             ],
             [
              0.2222222222222222,
              "#7201a8"
             ],
             [
              0.3333333333333333,
              "#9c179e"
             ],
             [
              0.4444444444444444,
              "#bd3786"
             ],
             [
              0.5555555555555556,
              "#d8576b"
             ],
             [
              0.6666666666666666,
              "#ed7953"
             ],
             [
              0.7777777777777778,
              "#fb9f3a"
             ],
             [
              0.8888888888888888,
              "#fdca26"
             ],
             [
              1,
              "#f0f921"
             ]
            ],
            "type": "heatmap"
           }
          ],
          "histogram": [
           {
            "marker": {
             "pattern": {
              "fillmode": "overlay",
              "size": 10,
              "solidity": 0.2
             }
            },
            "type": "histogram"
           }
          ],
          "histogram2d": [
           {
            "colorbar": {
             "outlinewidth": 0,
             "ticks": ""
            },
            "colorscale": [
             [
              0,
              "#0d0887"
             ],
             [
              0.1111111111111111,
              "#46039f"
             ],
             [
              0.2222222222222222,
              "#7201a8"
             ],
             [
              0.3333333333333333,
              "#9c179e"
             ],
             [
              0.4444444444444444,
              "#bd3786"
             ],
             [
              0.5555555555555556,
              "#d8576b"
             ],
             [
              0.6666666666666666,
              "#ed7953"
             ],
             [
              0.7777777777777778,
              "#fb9f3a"
             ],
             [
              0.8888888888888888,
              "#fdca26"
             ],
             [
              1,
              "#f0f921"
             ]
            ],
            "type": "histogram2d"
           }
          ],
          "histogram2dcontour": [
           {
            "colorbar": {
             "outlinewidth": 0,
             "ticks": ""
            },
            "colorscale": [
             [
              0,
              "#0d0887"
             ],
             [
              0.1111111111111111,
              "#46039f"
             ],
             [
              0.2222222222222222,
              "#7201a8"
             ],
             [
              0.3333333333333333,
              "#9c179e"
             ],
             [
              0.4444444444444444,
              "#bd3786"
             ],
             [
              0.5555555555555556,
              "#d8576b"
             ],
             [
              0.6666666666666666,
              "#ed7953"
             ],
             [
              0.7777777777777778,
              "#fb9f3a"
             ],
             [
              0.8888888888888888,
              "#fdca26"
             ],
             [
              1,
              "#f0f921"
             ]
            ],
            "type": "histogram2dcontour"
           }
          ],
          "mesh3d": [
           {
            "colorbar": {
             "outlinewidth": 0,
             "ticks": ""
            },
            "type": "mesh3d"
           }
          ],
          "parcoords": [
           {
            "line": {
             "colorbar": {
              "outlinewidth": 0,
              "ticks": ""
             }
            },
            "type": "parcoords"
           }
          ],
          "pie": [
           {
            "automargin": true,
            "type": "pie"
           }
          ],
          "scatter": [
           {
            "fillpattern": {
             "fillmode": "overlay",
             "size": 10,
             "solidity": 0.2
            },
            "type": "scatter"
           }
          ],
          "scatter3d": [
           {
            "line": {
             "colorbar": {
              "outlinewidth": 0,
              "ticks": ""
             }
            },
            "marker": {
             "colorbar": {
              "outlinewidth": 0,
              "ticks": ""
             }
            },
            "type": "scatter3d"
           }
          ],
          "scattercarpet": [
           {
            "marker": {
             "colorbar": {
              "outlinewidth": 0,
              "ticks": ""
             }
            },
            "type": "scattercarpet"
           }
          ],
          "scattergeo": [
           {
            "marker": {
             "colorbar": {
              "outlinewidth": 0,
              "ticks": ""
             }
            },
            "type": "scattergeo"
           }
          ],
          "scattergl": [
           {
            "marker": {
             "colorbar": {
              "outlinewidth": 0,
              "ticks": ""
             }
            },
            "type": "scattergl"
           }
          ],
          "scattermap": [
           {
            "marker": {
             "colorbar": {
              "outlinewidth": 0,
              "ticks": ""
             }
            },
            "type": "scattermap"
           }
          ],
          "scattermapbox": [
           {
            "marker": {
             "colorbar": {
              "outlinewidth": 0,
              "ticks": ""
             }
            },
            "type": "scattermapbox"
           }
          ],
          "scatterpolar": [
           {
            "marker": {
             "colorbar": {
              "outlinewidth": 0,
              "ticks": ""
             }
            },
            "type": "scatterpolar"
           }
          ],
          "scatterpolargl": [
           {
            "marker": {
             "colorbar": {
              "outlinewidth": 0,
              "ticks": ""
             }
            },
            "type": "scatterpolargl"
           }
          ],
          "scatterternary": [
           {
            "marker": {
             "colorbar": {
              "outlinewidth": 0,
              "ticks": ""
             }
            },
            "type": "scatterternary"
           }
          ],
          "surface": [
           {
            "colorbar": {
             "outlinewidth": 0,
             "ticks": ""
            },
            "colorscale": [
             [
              0,
              "#0d0887"
             ],
             [
              0.1111111111111111,
              "#46039f"
             ],
             [
              0.2222222222222222,
              "#7201a8"
             ],
             [
              0.3333333333333333,
              "#9c179e"
             ],
             [
              0.4444444444444444,
              "#bd3786"
             ],
             [
              0.5555555555555556,
              "#d8576b"
             ],
             [
              0.6666666666666666,
              "#ed7953"
             ],
             [
              0.7777777777777778,
              "#fb9f3a"
             ],
             [
              0.8888888888888888,
              "#fdca26"
             ],
             [
              1,
              "#f0f921"
             ]
            ],
            "type": "surface"
           }
          ],
          "table": [
           {
            "cells": {
             "fill": {
              "color": "#EBF0F8"
             },
             "line": {
              "color": "white"
             }
            },
            "header": {
             "fill": {
              "color": "#C8D4E3"
             },
             "line": {
              "color": "white"
             }
            },
            "type": "table"
           }
          ]
         },
         "layout": {
          "annotationdefaults": {
           "arrowcolor": "#2a3f5f",
           "arrowhead": 0,
           "arrowwidth": 1
          },
          "autotypenumbers": "strict",
          "coloraxis": {
           "colorbar": {
            "outlinewidth": 0,
            "ticks": ""
           }
          },
          "colorscale": {
           "diverging": [
            [
             0,
             "#8e0152"
            ],
            [
             0.1,
             "#c51b7d"
            ],
            [
             0.2,
             "#de77ae"
            ],
            [
             0.3,
             "#f1b6da"
            ],
            [
             0.4,
             "#fde0ef"
            ],
            [
             0.5,
             "#f7f7f7"
            ],
            [
             0.6,
             "#e6f5d0"
            ],
            [
             0.7,
             "#b8e186"
            ],
            [
             0.8,
             "#7fbc41"
            ],
            [
             0.9,
             "#4d9221"
            ],
            [
             1,
             "#276419"
            ]
           ],
           "sequential": [
            [
             0,
             "#0d0887"
            ],
            [
             0.1111111111111111,
             "#46039f"
            ],
            [
             0.2222222222222222,
             "#7201a8"
            ],
            [
             0.3333333333333333,
             "#9c179e"
            ],
            [
             0.4444444444444444,
             "#bd3786"
            ],
            [
             0.5555555555555556,
             "#d8576b"
            ],
            [
             0.6666666666666666,
             "#ed7953"
            ],
            [
             0.7777777777777778,
             "#fb9f3a"
            ],
            [
             0.8888888888888888,
             "#fdca26"
            ],
            [
             1,
             "#f0f921"
            ]
           ],
           "sequentialminus": [
            [
             0,
             "#0d0887"
            ],
            [
             0.1111111111111111,
             "#46039f"
            ],
            [
             0.2222222222222222,
             "#7201a8"
            ],
            [
             0.3333333333333333,
             "#9c179e"
            ],
            [
             0.4444444444444444,
             "#bd3786"
            ],
            [
             0.5555555555555556,
             "#d8576b"
            ],
            [
             0.6666666666666666,
             "#ed7953"
            ],
            [
             0.7777777777777778,
             "#fb9f3a"
            ],
            [
             0.8888888888888888,
             "#fdca26"
            ],
            [
             1,
             "#f0f921"
            ]
           ]
          },
          "colorway": [
           "#636efa",
           "#EF553B",
           "#00cc96",
           "#ab63fa",
           "#FFA15A",
           "#19d3f3",
           "#FF6692",
           "#B6E880",
           "#FF97FF",
           "#FECB52"
          ],
          "font": {
           "color": "#2a3f5f"
          },
          "geo": {
           "bgcolor": "white",
           "lakecolor": "white",
           "landcolor": "#E5ECF6",
           "showlakes": true,
           "showland": true,
           "subunitcolor": "white"
          },
          "hoverlabel": {
           "align": "left"
          },
          "hovermode": "closest",
          "mapbox": {
           "style": "light"
          },
          "paper_bgcolor": "white",
          "plot_bgcolor": "#E5ECF6",
          "polar": {
           "angularaxis": {
            "gridcolor": "white",
            "linecolor": "white",
            "ticks": ""
           },
           "bgcolor": "#E5ECF6",
           "radialaxis": {
            "gridcolor": "white",
            "linecolor": "white",
            "ticks": ""
           }
          },
          "scene": {
           "xaxis": {
            "backgroundcolor": "#E5ECF6",
            "gridcolor": "white",
            "gridwidth": 2,
            "linecolor": "white",
            "showbackground": true,
            "ticks": "",
            "zerolinecolor": "white"
           },
           "yaxis": {
            "backgroundcolor": "#E5ECF6",
            "gridcolor": "white",
            "gridwidth": 2,
            "linecolor": "white",
            "showbackground": true,
            "ticks": "",
            "zerolinecolor": "white"
           },
           "zaxis": {
            "backgroundcolor": "#E5ECF6",
            "gridcolor": "white",
            "gridwidth": 2,
            "linecolor": "white",
            "showbackground": true,
            "ticks": "",
            "zerolinecolor": "white"
           }
          },
          "shapedefaults": {
           "line": {
            "color": "#2a3f5f"
           }
          },
          "ternary": {
           "aaxis": {
            "gridcolor": "white",
            "linecolor": "white",
            "ticks": ""
           },
           "baxis": {
            "gridcolor": "white",
            "linecolor": "white",
            "ticks": ""
           },
           "bgcolor": "#E5ECF6",
           "caxis": {
            "gridcolor": "white",
            "linecolor": "white",
            "ticks": ""
           }
          },
          "title": {
           "x": 0.05
          },
          "xaxis": {
           "automargin": true,
           "gridcolor": "white",
           "linecolor": "white",
           "ticks": "",
           "title": {
            "standoff": 15
           },
           "zerolinecolor": "white",
           "zerolinewidth": 2
          },
          "yaxis": {
           "automargin": true,
           "gridcolor": "white",
           "linecolor": "white",
           "ticks": "",
           "title": {
            "standoff": 15
           },
           "zerolinecolor": "white",
           "zerolinewidth": 2
          }
         }
        }
       }
      }
     },
     "metadata": {},
     "output_type": "display_data"
    }
   ],
   "source": [
    "import plotly.express as px\n",
    "\n",
    "# Ensure port_name exists\n",
    "df_ports = df_ports.rename(columns={\"PORT_NAME\": \"port_name\"}) if \"PORT_NAME\" in df_ports.columns else df_ports.assign(port_name=\"Port\")\n",
    "\n",
    "# Add sailing anchor emoji to hover\n",
    "df_ports[\"hover_label\"] = df_ports[\"port_name\"].apply(lambda x: f\"⚓ {x}\")\n",
    "\n",
    "# Assign each port a unique color\n",
    "fig = px.scatter_map(\n",
    "    df_ports,\n",
    "    lat=\"lat\",\n",
    "    lon=\"lon\",\n",
    "    hover_name=\"hover_label\",\n",
    "    color=\"port_name\",  # different color for each port\n",
    "    zoom=5,\n",
    "    height=700\n",
    ")\n",
    "\n",
    "fig.update_layout(\n",
    "    mapbox_style=\"open-street-map\",  # or \"stamen-terrain\", \"carto-positron\", etc.\n",
    "    margin={\"r\": 0, \"t\": 0, \"l\": 0, \"b\": 0},\n",
    "    legend_title_text=\"⚓ Ports\"\n",
    ")\n",
    "\n",
    "fig.show()\n"
   ]
  },
  {
   "cell_type": "code",
   "execution_count": null,
   "id": "661d1a31",
   "metadata": {},
   "outputs": [],
   "source": []
  }
 ],
 "metadata": {
  "kernelspec": {
   "display_name": ".venv",
   "language": "python",
   "name": "python3"
  },
  "language_info": {
   "codemirror_mode": {
    "name": "ipython",
    "version": 3
   },
   "file_extension": ".py",
   "mimetype": "text/x-python",
   "name": "python",
   "nbconvert_exporter": "python",
   "pygments_lexer": "ipython3",
   "version": "3.12.3"
  }
 },
 "nbformat": 4,
 "nbformat_minor": 5
}
