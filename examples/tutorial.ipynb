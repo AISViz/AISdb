{
 "cells": [
  {
   "attachments": {},
   "cell_type": "markdown",
   "id": "02361ac8",
   "metadata": {},
   "source": [
    "# AISdb Tutorial 1\n",
    "\n",
    "This tutorial will show you how to use the AISdb package to load AIS data into a database and query it."
   ]
  },
  {
   "attachments": {},
   "cell_type": "markdown",
   "id": "fc0ea0fb",
   "metadata": {},
   "source": [
    "## 1. Install requirements"
   ]
  },
  {
   "cell_type": "code",
   "execution_count": null,
   "id": "7aafe960-869c-447c-917e-9172897ab086",
   "metadata": {},
   "outputs": [],
   "source": [
    "# install aisdb\n",
    "%pip install aisdb\n",
    "\n",
    "# install nest-asyncio for enabling asyncio.run() in Jupyter Notebook\n",
    "%pip install nest-asyncio\n",
    "\n",
    "# Some of the system may show the following error when running user interface:\n",
    "# urllib3 v2.0 only supports OpenSSL 1.1.1+, currently the 'ssl' module is compiled with 'LibreSSL 2.8.3'.\n",
    "# install urllib3 v1.26.6 to avoid this error\n",
    "%pip install urllib3==1.26.6 "
   ]
  },
  {
   "cell_type": "code",
   "execution_count": 2,
   "id": "163d233f",
   "metadata": {},
   "outputs": [],
   "source": [
    "import aisdb\n",
    "from datetime import datetime, timedelta\n",
    "import os\n",
    "import nest_asyncio\n",
    "nest_asyncio.apply()"
   ]
  },
  {
   "attachments": {},
   "cell_type": "markdown",
   "id": "46ae7fe9",
   "metadata": {},
   "source": [
    "## 2. Load AIS data into a database\n",
    "\n",
    "In this section, we will provide a comprehensive demonstration of how to efficiently load AIS data into a database.\n",
    "\n",
    "Additionally, in real-world scenarios, you have the flexibility to actively listen for stream data and effortlessly load it into the designated database."
   ]
  },
  {
   "cell_type": "code",
   "execution_count": 3,
   "id": "57b4b43d",
   "metadata": {},
   "outputs": [
    {
     "name": "stdout",
     "output_type": "stream",
     "text": [
      "['test_data_20211101.nm4.gz', 'test_data_20211101.nm4', 'test_data_20210701.csv']\n"
     ]
    }
   ],
   "source": [
    "# list the test data files included in the package\n",
    "print(os.listdir(os.path.join(aisdb.sqlpath, '..', 'tests', 'testdata')))"
   ]
  },
  {
   "cell_type": "code",
   "execution_count": 13,
   "id": "ccd268ad",
   "metadata": {},
   "outputs": [],
   "source": [
    "dbpath = './AIS2.db'\n",
    "# use test_data_20210701.csv as the test data\n",
    "filepaths = [os.path.join(aisdb.sqlpath, '..', 'tests', 'testdata', 'test_data_20210701.csv')]\n",
    "with aisdb.DBConn() as dbconn:\n",
    "    aisdb.decode_msgs(filepaths=filepaths, dbconn=dbconn,\n",
    "                      dbpath=dbpath, source='TESTING')"
   ]
  },
  {
   "attachments": {},
   "cell_type": "markdown",
   "id": "7b4dfe32",
   "metadata": {},
   "source": [
    "## 3. Visualize AIS data\n",
    "\n",
    "In this section we will directly visualize AIS data without processing it. This is useful for quickly checking the data."
   ]
  },
  {
   "cell_type": "code",
   "execution_count": 3,
   "id": "c6a5c916",
   "metadata": {},
   "outputs": [
    {
     "name": "stdout",
     "output_type": "stream",
     "text": [
      "Querying database...\tdone query\n",
      "Opening a new browser window to display track data. Press Ctrl-C to stop the server and close the webpage\n",
      "Serving HTTP assets on localhost:3000\n",
      "::1:53843 - received: {'msgtype': 'meta'}\n"
     ]
    },
    {
     "name": "stderr",
     "output_type": "stream",
     "text": [
      "127.0.0.1 - - [27/Jun/2023 12:10:22] \"GET /index.html?python=2&z=2 HTTP/1.1\" 304 -\n",
      "127.0.0.1 - - [27/Jun/2023 12:10:22] \"GET /assets/main-8b0e81cf.js HTTP/1.1\" 304 -\n",
      "127.0.0.1 - - [27/Jun/2023 12:10:22] \"GET /assets/url-43e87897.js HTTP/1.1\" 304 -\n",
      "127.0.0.1 - - [27/Jun/2023 12:10:22] \"GET /assets/vessel_metadata-df772244.js HTTP/1.1\" 304 -\n",
      "127.0.0.1 - - [27/Jun/2023 12:10:22] \"GET /assets/constants-870f4956.js HTTP/1.1\" 304 -\n",
      "127.0.0.1 - - [27/Jun/2023 12:10:22] \"GET /assets/map-c04ede37.css HTTP/1.1\" 304 -\n",
      "127.0.0.1 - - [27/Jun/2023 12:10:22] \"GET /assets/index-f2c4f58e.css HTTP/1.1\" 304 -\n",
      "127.0.0.1 - - [27/Jun/2023 12:10:22] \"GET /assets/map-c0ca9a66.js HTTP/1.1\" 200 -\n",
      "127.0.0.1 - - [27/Jun/2023 12:10:22] \"GET /assets/proj-04f64360.js HTTP/1.1\" 200 -\n",
      "127.0.0.1 - - [27/Jun/2023 12:10:22] \"GET /assets/tileserver-1d4ceaca.js HTTP/1.1\" 200 -\n",
      "127.0.0.1 - - [27/Jun/2023 12:10:22] \"GET /assets/client_bg-916ba2c4.wasm HTTP/1.1\" 200 -\n"
     ]
    },
    {
     "name": "stdout",
     "output_type": "stream",
     "text": [
      "::1:53846 - received: {'msgtype': 'validrange'}\n",
      "::1:53846 - received: {'msgtype': 'zones'}\n",
      "Received KeyboardInterrupt, stopping server...\n"
     ]
    }
   ],
   "source": [
    "start_time = datetime.strptime(\"2021-07-01 00:00:00\", '%Y-%m-%d %H:%M:%S')\n",
    "end_time = datetime.strptime(\"2021-07-02 00:00:00\", '%Y-%m-%d %H:%M:%S')\n",
    "\n",
    "with aisdb.SQLiteDBConn() as dbconn:\n",
    "    qry = aisdb.DBQuery(\n",
    "        dbconn=dbconn,\n",
    "        dbpath='./AIS2.db',\n",
    "        callback=aisdb.database.sql_query_strings.in_timerange,\n",
    "        start=start_time,\n",
    "        end=end_time,\n",
    "    )\n",
    "    rowgen = qry.gen_qry()\n",
    "    tracks = aisdb.track_gen.TrackGen(rowgen, decimate=False)\n",
    "\n",
    "    if __name__ == '__main__':\n",
    "        aisdb.web_interface.visualize(\n",
    "            tracks,\n",
    "            visualearth=True,\n",
    "            open_browser=True,\n",
    "        )"
   ]
  },
  {
   "attachments": {},
   "cell_type": "markdown",
   "id": "078b0812",
   "metadata": {},
   "source": [
    "## 4. Basic AIS data processing\n",
    "\n",
    "In this section we will show how to process AIS data to extract useful information."
   ]
  },
  {
   "cell_type": "code",
   "execution_count": 4,
   "id": "eb502a48",
   "metadata": {},
   "outputs": [
    {
     "name": "stdout",
     "output_type": "stream",
     "text": [
      "Querying database...\t"
     ]
    },
    {
     "name": "stderr",
     "output_type": "stream",
     "text": [
      "/Users/chenjinkun/Desktop/meridian/tutorials/aisdb/env/lib/python3.9/site-packages/aisdb/interp.py:32: UserWarning: cannot interpolate track of length 1, skipping...\n",
      "  warnings.warn('cannot interpolate track of length 1, skipping...')\n"
     ]
    },
    {
     "name": "stdout",
     "output_type": "stream",
     "text": [
      "done query\n",
      "Opening a new browser window to display track data. Press Ctrl-C to stop the server and close the webpage\n",
      "Serving HTTP assets on localhost:3000\n"
     ]
    },
    {
     "name": "stderr",
     "output_type": "stream",
     "text": [
      "127.0.0.1 - - [27/Jun/2023 12:10:58] \"GET /assets/map-c0ca9a66.js HTTP/1.1\" 200 -\n",
      "127.0.0.1 - - [27/Jun/2023 12:10:58] \"GET /assets/proj-04f64360.js HTTP/1.1\" 200 -\n",
      "127.0.0.1 - - [27/Jun/2023 12:10:58] \"GET /assets/map-c0ca9a66.js HTTP/1.1\" 200 -\n",
      "127.0.0.1 - - [27/Jun/2023 12:10:58] \"GET /assets/client_bg-916ba2c4.wasm HTTP/1.1\" 200 -\n",
      "127.0.0.1 - - [27/Jun/2023 12:10:58] \"GET /assets/tileserver-1d4ceaca.js HTTP/1.1\" 200 -\n",
      "127.0.0.1 - - [27/Jun/2023 12:10:58] \"GET /assets/tileserver-1d4ceaca.js HTTP/1.1\" 200 -\n"
     ]
    },
    {
     "name": "stdout",
     "output_type": "stream",
     "text": [
      "::1:53866 - received: {'msgtype': 'meta'}\n",
      "::1:53872 - received: {'msgtype': 'validrange'}\n",
      "::1:53872 - received: {'msgtype': 'zones'}\n",
      "Received KeyboardInterrupt, stopping server...\n"
     ]
    }
   ],
   "source": [
    "start_time = datetime.strptime(\"2021-07-01 00:00:00\", '%Y-%m-%d %H:%M:%S')\n",
    "end_time = datetime.strptime(\"2021-07-02 00:00:00\", '%Y-%m-%d %H:%M:%S')\n",
    "\n",
    "with aisdb.SQLiteDBConn() as dbconn:\n",
    "\n",
    "    qry = aisdb.DBQuery(\n",
    "        dbconn=dbconn,\n",
    "        dbpath='./AIS2.db',\n",
    "        callback=aisdb.database.sqlfcn_callbacks.in_timerange,\n",
    "        start=start_time,\n",
    "        end=end_time,\n",
    "    )\n",
    "    rowgen = qry.gen_qry()\n",
    "    tracks = aisdb.track_gen.TrackGen(rowgen, decimate=False)\n",
    "\n",
    "    # split trajectories by time without AIS message transmission\n",
    "    tracks = aisdb.split_timedelta(tracks, timedelta(hours=24))\n",
    "    # filter the tracks by distance and speed\n",
    "    tracks = aisdb.encode_greatcircledistance(tracks,\n",
    "                                              distance_threshold=200000,\n",
    "                                              speed_threshold=50)\n",
    "    # interpolate time\n",
    "    tracks = aisdb.interp_time(tracks, step=timedelta(minutes=5))\n",
    "\n",
    "    if __name__ == '__main__':\n",
    "        aisdb.web_interface.visualize(\n",
    "            tracks,\n",
    "            visualearth=True,\n",
    "            open_browser=True,\n",
    "        )"
   ]
  },
  {
   "attachments": {},
   "cell_type": "markdown",
   "id": "95699592",
   "metadata": {},
   "source": [
    "## 5. Process AIS data with External Data Source\n",
    "\n",
    "\n",
    "In this section, we will demonstrate the process of integrating AIS data with external Bathymetric data to enhance our analysis.\n",
    "\n",
    "Our objective is to identify all vessels located within circular areas with a radius of 1000m around Cape Town, South Africa, specifically on the date of 2021-07-01.\n",
    "\n",
    "Subsequently, we will apply a filtering criterion to exclude vessels that have the shortest distance to the coast."
   ]
  },
  {
   "cell_type": "code",
   "execution_count": 3,
   "id": "2fab7d06",
   "metadata": {},
   "outputs": [
    {
     "name": "stdout",
     "output_type": "stream",
     "text": [
      "Bathymetry data already exists.\n",
      "Requirement already satisfied: plotly in ./env/lib/python3.9/site-packages (5.15.0)\n",
      "Requirement already satisfied: tenacity>=6.2.0 in ./env/lib/python3.9/site-packages (from plotly) (8.2.2)\n",
      "Requirement already satisfied: packaging in ./env/lib/python3.9/site-packages (from plotly) (23.1)\n",
      "Note: you may need to restart the kernel to use updated packages.\n",
      "Requirement already satisfied: pandas in ./env/lib/python3.9/site-packages (2.0.2)\n",
      "Requirement already satisfied: python-dateutil>=2.8.2 in ./env/lib/python3.9/site-packages (from pandas) (2.8.2)\n",
      "Requirement already satisfied: pytz>=2020.1 in ./env/lib/python3.9/site-packages (from pandas) (2023.3)\n",
      "Requirement already satisfied: tzdata>=2022.1 in ./env/lib/python3.9/site-packages (from pandas) (2023.3)\n",
      "Requirement already satisfied: numpy>=1.20.3 in ./env/lib/python3.9/site-packages (from pandas) (1.25.0)\n",
      "Requirement already satisfied: six>=1.5 in ./env/lib/python3.9/site-packages (from python-dateutil>=2.8.2->pandas) (1.16.0)\n",
      "Note: you may need to restart the kernel to use updated packages.\n",
      "Requirement already satisfied: nbformat in ./env/lib/python3.9/site-packages (5.9.0)\n",
      "Requirement already satisfied: fastjsonschema in ./env/lib/python3.9/site-packages (from nbformat) (2.17.1)\n",
      "Requirement already satisfied: jsonschema>=2.6 in ./env/lib/python3.9/site-packages (from nbformat) (4.17.3)\n",
      "Requirement already satisfied: jupyter-core in ./env/lib/python3.9/site-packages (from nbformat) (5.3.1)\n",
      "Requirement already satisfied: traitlets>=5.1 in ./env/lib/python3.9/site-packages (from nbformat) (5.9.0)\n",
      "Requirement already satisfied: attrs>=17.4.0 in ./env/lib/python3.9/site-packages (from jsonschema>=2.6->nbformat) (23.1.0)\n",
      "Requirement already satisfied: pyrsistent!=0.17.0,!=0.17.1,!=0.17.2,>=0.14.0 in ./env/lib/python3.9/site-packages (from jsonschema>=2.6->nbformat) (0.19.3)\n",
      "Requirement already satisfied: platformdirs>=2.5 in ./env/lib/python3.9/site-packages (from jupyter-core->nbformat) (3.6.0)\n",
      "Note: you may need to restart the kernel to use updated packages.\n"
     ]
    }
   ],
   "source": [
    "# Download bathymetry data\n",
    "\n",
    "# set the path to the data storage directory\n",
    "bathymetry_data_dir = \"./bathymetry_data/\"\n",
    "\n",
    "# check if the directory exists\n",
    "if not os.path.exists(bathymetry_data_dir):\n",
    "    os.makedirs(bathymetry_data_dir)\n",
    "\n",
    "# check if the directory is empty\\\n",
    "if os.listdir(bathymetry_data_dir) == []:\n",
    "    # download the bathymetry data\n",
    "    bathy = aisdb.webdata.bathymetry.Gebco(data_dir=bathymetry_data_dir)\n",
    "    bathy.fetch_bathymetry_grid()\n",
    "else:\n",
    "    print(\"Bathymetry data already exists.\")\n"
   ]
  },
  {
   "cell_type": "code",
   "execution_count": 5,
   "id": "a5bd3898",
   "metadata": {},
   "outputs": [
    {
     "name": "stdout",
     "output_type": "stream",
     "text": [
      "Querying database...\tServing HTTP assets on localhost:3000\n",
      "done query\n",
      "Opening a new browser window to display track data. Press Ctrl-C to stop the server and close the webpage\n"
     ]
    },
    {
     "name": "stderr",
     "output_type": "stream",
     "text": [
      "127.0.0.1 - - [27/Jun/2023 12:11:59] \"GET /assets/map-c0ca9a66.js HTTP/1.1\" 200 -\n",
      "127.0.0.1 - - [27/Jun/2023 12:11:59] \"GET /assets/proj-04f64360.js HTTP/1.1\" 200 -\n",
      "127.0.0.1 - - [27/Jun/2023 12:11:59] \"GET /assets/map-c0ca9a66.js HTTP/1.1\" 200 -\n",
      "127.0.0.1 - - [27/Jun/2023 12:11:59] \"GET /assets/proj-04f64360.js HTTP/1.1\" 200 -\n",
      "127.0.0.1 - - [27/Jun/2023 12:11:59] \"GET /assets/client_bg-916ba2c4.wasm HTTP/1.1\" 200 -\n",
      "127.0.0.1 - - [27/Jun/2023 12:11:59] \"GET /assets/tileserver-1d4ceaca.js HTTP/1.1\" 200 -\n",
      "127.0.0.1 - - [27/Jun/2023 12:11:59] \"GET /assets/tileserver-1d4ceaca.js HTTP/1.1\" 200 -\n"
     ]
    },
    {
     "name": "stdout",
     "output_type": "stream",
     "text": [
      "::1:53913 - received: {'msgtype': 'meta'}\n",
      "::1:53919 - received: {'msgtype': 'validrange'}\n",
      "::1:53919 - received: {'msgtype': 'zones'}\n",
      "Received KeyboardInterrupt, stopping server...\n"
     ]
    }
   ],
   "source": [
    "start_time = datetime.strptime(\"2021-07-01 00:00:00\", '%Y-%m-%d %H:%M:%S')\n",
    "end_time = datetime.strptime(\"2021-07-02 00:00:00\", '%Y-%m-%d %H:%M:%S')\n",
    "\n",
    "# define a function to add color to the tracks\n",
    "def add_color(tracks):\n",
    "    for track in tracks:\n",
    "        if abs(track['coast_distance'][0]) <= 100:\n",
    "            track['color'] = \"yellow\"\n",
    "        elif abs(track['coast_distance'][0]) <= 1000:\n",
    "            track['color'] = \"orange\"\n",
    "        elif abs(track['coast_distance'][0]) <= 20000:\n",
    "            track['color'] = \"pink\"\n",
    "        else:\n",
    "            track['color'] = \"red\"\n",
    "        yield track\n",
    "\n",
    "with aisdb.SQLiteDBConn() as dbconn:\n",
    "\n",
    "    # define the region of interest\n",
    "    # In this example, we use a circle with a center at cape town in South Africa, and a radius of 800 km\n",
    "    domain = aisdb.DomainFromPoints(\n",
    "        points=[(18.4157, -33.9646),], radial_distances=[800000,])\n",
    "\n",
    "    qry = aisdb.DBQuery(\n",
    "        dbconn=dbconn,\n",
    "        dbpath='./AIS2.db',\n",
    "        callback=aisdb.database.sqlfcn_callbacks.in_bbox_time_validmmsi,\n",
    "        start=start_time,\n",
    "        end=end_time,\n",
    "        xmin=domain.boundary['xmin'],\n",
    "        xmax=domain.boundary['xmax'],\n",
    "        ymin=domain.boundary['ymin'],\n",
    "        ymax=domain.boundary['ymax'],\n",
    "    )\n",
    "    rowgen = qry.gen_qry()\n",
    "    tracks = aisdb.track_gen.TrackGen(rowgen, decimate=True)\n",
    "\n",
    "    # merge the tracks with the raster data\n",
    "    raster_path = \"./bathymetry_data/gebco_2022_n0.0_s-90.0_w0.0_e90.0.tif\"\n",
    "    raster = aisdb.webdata.load_raster.RasterFile(raster_path)\n",
    "    tracks_raster = raster.merge_tracks(tracks, new_track_key=\"coast_distance\")\n",
    "\n",
    "    # add color to the tracks\n",
    "    tracks_colored = add_color(tracks_raster)\n",
    "\n",
    "    if __name__ == '__main__':\n",
    "        aisdb.web_interface.visualize(\n",
    "            tracks_colored,\n",
    "            visualearth=True,\n",
    "            open_browser=True,\n",
    "        )\n",
    "    \n",
    "    "
   ]
  },
  {
   "attachments": {},
   "cell_type": "markdown",
   "id": "aea3101f",
   "metadata": {},
   "source": [
    "Furthermore, the processed data can be effortlessly integrated into your existing pipeline, allowing for seamless migration to other third-party tools (e.g., visualization tools) that align with your specific requirements."
   ]
  },
  {
   "cell_type": "code",
   "execution_count": 7,
   "id": "886a98cc",
   "metadata": {},
   "outputs": [
    {
     "name": "stdout",
     "output_type": "stream",
     "text": [
      "Requirement already satisfied: plotly in /Users/chenjinkun/Desktop/meridian/tutorials/aisdb/env/lib/python3.9/site-packages (5.15.0)\n",
      "Requirement already satisfied: tenacity>=6.2.0 in /Users/chenjinkun/Desktop/meridian/tutorials/aisdb/env/lib/python3.9/site-packages (from plotly) (8.2.2)\n",
      "Requirement already satisfied: packaging in /Users/chenjinkun/Desktop/meridian/tutorials/aisdb/env/lib/python3.9/site-packages (from plotly) (23.1)\n",
      "Note: you may need to restart the kernel to use updated packages.\n",
      "Requirement already satisfied: pandas in /Users/chenjinkun/Desktop/meridian/tutorials/aisdb/env/lib/python3.9/site-packages (2.0.2)\n",
      "Requirement already satisfied: python-dateutil>=2.8.2 in /Users/chenjinkun/Desktop/meridian/tutorials/aisdb/env/lib/python3.9/site-packages (from pandas) (2.8.2)\n",
      "Requirement already satisfied: pytz>=2020.1 in /Users/chenjinkun/Desktop/meridian/tutorials/aisdb/env/lib/python3.9/site-packages (from pandas) (2023.3)\n",
      "Requirement already satisfied: tzdata>=2022.1 in /Users/chenjinkun/Desktop/meridian/tutorials/aisdb/env/lib/python3.9/site-packages (from pandas) (2023.3)\n",
      "Requirement already satisfied: numpy>=1.20.3 in /Users/chenjinkun/Desktop/meridian/tutorials/aisdb/env/lib/python3.9/site-packages (from pandas) (1.25.0)\n",
      "Requirement already satisfied: six>=1.5 in /Users/chenjinkun/Desktop/meridian/tutorials/aisdb/env/lib/python3.9/site-packages (from python-dateutil>=2.8.2->pandas) (1.16.0)\n",
      "Note: you may need to restart the kernel to use updated packages.\n",
      "Requirement already satisfied: nbformat in /Users/chenjinkun/Desktop/meridian/tutorials/aisdb/env/lib/python3.9/site-packages (5.9.0)\n",
      "Requirement already satisfied: fastjsonschema in /Users/chenjinkun/Desktop/meridian/tutorials/aisdb/env/lib/python3.9/site-packages (from nbformat) (2.17.1)\n",
      "Requirement already satisfied: jsonschema>=2.6 in /Users/chenjinkun/Desktop/meridian/tutorials/aisdb/env/lib/python3.9/site-packages (from nbformat) (4.17.3)\n",
      "Requirement already satisfied: jupyter-core in /Users/chenjinkun/Desktop/meridian/tutorials/aisdb/env/lib/python3.9/site-packages (from nbformat) (5.3.1)\n",
      "Requirement already satisfied: traitlets>=5.1 in /Users/chenjinkun/Desktop/meridian/tutorials/aisdb/env/lib/python3.9/site-packages (from nbformat) (5.9.0)\n",
      "Requirement already satisfied: attrs>=17.4.0 in /Users/chenjinkun/Desktop/meridian/tutorials/aisdb/env/lib/python3.9/site-packages (from jsonschema>=2.6->nbformat) (23.1.0)\n",
      "Requirement already satisfied: pyrsistent!=0.17.0,!=0.17.1,!=0.17.2,>=0.14.0 in /Users/chenjinkun/Desktop/meridian/tutorials/aisdb/env/lib/python3.9/site-packages (from jsonschema>=2.6->nbformat) (0.19.3)\n",
      "Requirement already satisfied: platformdirs>=2.5 in /Users/chenjinkun/Desktop/meridian/tutorials/aisdb/env/lib/python3.9/site-packages (from jupyter-core->nbformat) (3.6.0)\n",
      "Note: you may need to restart the kernel to use updated packages.\n"
     ]
    }
   ],
   "source": [
    "# install the packages for visualization with plotly \n",
    "\n",
    "%pip install plotly\n",
    "%pip install pandas\n",
    "%pip install nbformat\n",
    "import pandas as pd\n",
    "import plotly.express as px\n",
    "import nbformat"
   ]
  },
  {
   "cell_type": "code",
   "execution_count": 8,
   "id": "eb652fae",
   "metadata": {},
   "outputs": [
    {
     "name": "stdout",
     "output_type": "stream",
     "text": [
      "The vessel with the longest distance to the coast is in this area:\n",
      "{'mmsi': 563033400, 'lon': array([10.466162], dtype=float32), 'lat': array([-31.424782], dtype=float32), 'time': array([1625173922], dtype=uint32), 'sog': array([12.5], dtype=float32), 'cog': array([292], dtype=uint32), 'static': {'mmsi'}, 'dynamic': {'lon', 'lat', 'sog', 'cog', 'time', 'coast_distance'}, 'coast_distance': array([-4852])}\n"
     ]
    },
    {
     "data": {
      "application/vnd.plotly.v1+json": {
       "config": {
        "plotlyServerURL": "https://plot.ly"
       },
       "data": [
        {
         "customdata": [
          [
           563033400
          ],
          [
           373039000
          ],
          [
           477712200
          ],
          [
           538005431
          ],
          [
           413054720
          ],
          [
           538008189
          ],
          [
           374432000
          ],
          [
           538004327
          ],
          [
           636018588
          ],
          [
           477219100
          ],
          [
           538009419
          ],
          [
           477162500
          ],
          [
           235101105
          ],
          [
           601202400
          ],
          [
           601137200
          ],
          [
           248720000
          ],
          [
           353441000
          ],
          [
           249875000
          ],
          [
           601335800
          ],
          [
           636019228
          ],
          [
           419000311
          ],
          [
           353614000
          ],
          [
           538008507
          ],
          [
           601988500
          ],
          [
           210083000
          ],
          [
           431098000
          ],
          [
           563080600
          ],
          [
           538003691
          ],
          [
           259753000
          ],
          [
           319153600
          ],
          [
           636015585
          ],
          [
           248172000
          ],
          [
           219323000
          ],
          [
           248625000
          ],
          [
           601183700
          ],
          [
           601254600
          ],
          [
           601058400
          ],
          [
           538008164
          ]
         ],
         "geo": "geo",
         "hovertemplate": "lat=%{lat}<br>lon=%{lon}<br>mmsi=%{customdata[0]}<br>coast_distance=%{marker.color}<extra></extra>",
         "lat": [
          -31.424782,
          -35.161667,
          -34.333332,
          -35.07857,
          -27.141098,
          -32.791424,
          -32.72311,
          -27.667253,
          -31.9819,
          -31.98722,
          -29.84899,
          -29.040297,
          -34.39925,
          -33.20653,
          -32.24187,
          -34.7177,
          -35.10801,
          -34.708,
          -34.382378,
          -35.0711,
          -35.08286,
          -34.55,
          -34.915,
          -34.953266,
          -34.844334,
          -35.17544,
          -33.891666,
          -33.98592,
          -34.68098,
          -33.90822,
          -34.967163,
          -32.660255,
          -33.827156,
          -33.818333,
          -33.959713,
          -33.023335,
          -33.105427,
          -33.906666
         ],
         "legendgroup": "",
         "lon": [
          10.466162,
          13.531667,
          13.865,
          15.820702,
          11.957425,
          12.914871,
          14.449675,
          13.017194,
          14.368733,
          14.603688,
          13.573889,
          13.972985,
          17.461384,
          17.433361,
          16.517284,
          24.385069,
          19.598755,
          24.179832,
          24.082884,
          22.278687,
          22.16347,
          24.27,
          19.618334,
          22.196068,
          19.432184,
          20.769508,
          18.24,
          26.07772,
          21.207054,
          26.137697,
          19.8393,
          18.048027,
          18.42761,
          18.455,
          25.668041,
          17.961666,
          18.032139,
          18.426666
         ],
         "marker": {
          "color": [
           -4852,
           -4637,
           -4507,
           -4441,
           -4080,
           -3776,
           -3657,
           -3125,
           -3015,
           -2663,
           -2507,
           -1606,
           -1605,
           -508,
           -390,
           -177,
           -155,
           -143,
           -127,
           -122,
           -117,
           -116,
           -107,
           -107,
           -106,
           -100,
           -100,
           -84,
           -72,
           -72,
           -70,
           -33,
           -21,
           -18,
           -16,
           4,
           5,
           6
          ],
          "coloraxis": "coloraxis",
          "symbol": "circle"
         },
         "mode": "markers",
         "name": "",
         "showlegend": false,
         "type": "scattergeo"
        }
       ],
       "layout": {
        "coloraxis": {
         "colorbar": {
          "title": {
           "text": "coast_distance"
          }
         },
         "colorscale": [
          [
           0,
           "#0d0887"
          ],
          [
           0.1111111111111111,
           "#46039f"
          ],
          [
           0.2222222222222222,
           "#7201a8"
          ],
          [
           0.3333333333333333,
           "#9c179e"
          ],
          [
           0.4444444444444444,
           "#bd3786"
          ],
          [
           0.5555555555555556,
           "#d8576b"
          ],
          [
           0.6666666666666666,
           "#ed7953"
          ],
          [
           0.7777777777777778,
           "#fb9f3a"
          ],
          [
           0.8888888888888888,
           "#fdca26"
          ],
          [
           1,
           "#f0f921"
          ]
         ]
        },
        "geo": {
         "center": {},
         "domain": {
          "x": [
           0,
           1
          ],
          "y": [
           0,
           1
          ]
         }
        },
        "legend": {
         "tracegroupgap": 0
        },
        "margin": {
         "t": 60
        },
        "template": {
         "data": {
          "bar": [
           {
            "error_x": {
             "color": "#2a3f5f"
            },
            "error_y": {
             "color": "#2a3f5f"
            },
            "marker": {
             "line": {
              "color": "#E5ECF6",
              "width": 0.5
             },
             "pattern": {
              "fillmode": "overlay",
              "size": 10,
              "solidity": 0.2
             }
            },
            "type": "bar"
           }
          ],
          "barpolar": [
           {
            "marker": {
             "line": {
              "color": "#E5ECF6",
              "width": 0.5
             },
             "pattern": {
              "fillmode": "overlay",
              "size": 10,
              "solidity": 0.2
             }
            },
            "type": "barpolar"
           }
          ],
          "carpet": [
           {
            "aaxis": {
             "endlinecolor": "#2a3f5f",
             "gridcolor": "white",
             "linecolor": "white",
             "minorgridcolor": "white",
             "startlinecolor": "#2a3f5f"
            },
            "baxis": {
             "endlinecolor": "#2a3f5f",
             "gridcolor": "white",
             "linecolor": "white",
             "minorgridcolor": "white",
             "startlinecolor": "#2a3f5f"
            },
            "type": "carpet"
           }
          ],
          "choropleth": [
           {
            "colorbar": {
             "outlinewidth": 0,
             "ticks": ""
            },
            "type": "choropleth"
           }
          ],
          "contour": [
           {
            "colorbar": {
             "outlinewidth": 0,
             "ticks": ""
            },
            "colorscale": [
             [
              0,
              "#0d0887"
             ],
             [
              0.1111111111111111,
              "#46039f"
             ],
             [
              0.2222222222222222,
              "#7201a8"
             ],
             [
              0.3333333333333333,
              "#9c179e"
             ],
             [
              0.4444444444444444,
              "#bd3786"
             ],
             [
              0.5555555555555556,
              "#d8576b"
             ],
             [
              0.6666666666666666,
              "#ed7953"
             ],
             [
              0.7777777777777778,
              "#fb9f3a"
             ],
             [
              0.8888888888888888,
              "#fdca26"
             ],
             [
              1,
              "#f0f921"
             ]
            ],
            "type": "contour"
           }
          ],
          "contourcarpet": [
           {
            "colorbar": {
             "outlinewidth": 0,
             "ticks": ""
            },
            "type": "contourcarpet"
           }
          ],
          "heatmap": [
           {
            "colorbar": {
             "outlinewidth": 0,
             "ticks": ""
            },
            "colorscale": [
             [
              0,
              "#0d0887"
             ],
             [
              0.1111111111111111,
              "#46039f"
             ],
             [
              0.2222222222222222,
              "#7201a8"
             ],
             [
              0.3333333333333333,
              "#9c179e"
             ],
             [
              0.4444444444444444,
              "#bd3786"
             ],
             [
              0.5555555555555556,
              "#d8576b"
             ],
             [
              0.6666666666666666,
              "#ed7953"
             ],
             [
              0.7777777777777778,
              "#fb9f3a"
             ],
             [
              0.8888888888888888,
              "#fdca26"
             ],
             [
              1,
              "#f0f921"
             ]
            ],
            "type": "heatmap"
           }
          ],
          "heatmapgl": [
           {
            "colorbar": {
             "outlinewidth": 0,
             "ticks": ""
            },
            "colorscale": [
             [
              0,
              "#0d0887"
             ],
             [
              0.1111111111111111,
              "#46039f"
             ],
             [
              0.2222222222222222,
              "#7201a8"
             ],
             [
              0.3333333333333333,
              "#9c179e"
             ],
             [
              0.4444444444444444,
              "#bd3786"
             ],
             [
              0.5555555555555556,
              "#d8576b"
             ],
             [
              0.6666666666666666,
              "#ed7953"
             ],
             [
              0.7777777777777778,
              "#fb9f3a"
             ],
             [
              0.8888888888888888,
              "#fdca26"
             ],
             [
              1,
              "#f0f921"
             ]
            ],
            "type": "heatmapgl"
           }
          ],
          "histogram": [
           {
            "marker": {
             "pattern": {
              "fillmode": "overlay",
              "size": 10,
              "solidity": 0.2
             }
            },
            "type": "histogram"
           }
          ],
          "histogram2d": [
           {
            "colorbar": {
             "outlinewidth": 0,
             "ticks": ""
            },
            "colorscale": [
             [
              0,
              "#0d0887"
             ],
             [
              0.1111111111111111,
              "#46039f"
             ],
             [
              0.2222222222222222,
              "#7201a8"
             ],
             [
              0.3333333333333333,
              "#9c179e"
             ],
             [
              0.4444444444444444,
              "#bd3786"
             ],
             [
              0.5555555555555556,
              "#d8576b"
             ],
             [
              0.6666666666666666,
              "#ed7953"
             ],
             [
              0.7777777777777778,
              "#fb9f3a"
             ],
             [
              0.8888888888888888,
              "#fdca26"
             ],
             [
              1,
              "#f0f921"
             ]
            ],
            "type": "histogram2d"
           }
          ],
          "histogram2dcontour": [
           {
            "colorbar": {
             "outlinewidth": 0,
             "ticks": ""
            },
            "colorscale": [
             [
              0,
              "#0d0887"
             ],
             [
              0.1111111111111111,
              "#46039f"
             ],
             [
              0.2222222222222222,
              "#7201a8"
             ],
             [
              0.3333333333333333,
              "#9c179e"
             ],
             [
              0.4444444444444444,
              "#bd3786"
             ],
             [
              0.5555555555555556,
              "#d8576b"
             ],
             [
              0.6666666666666666,
              "#ed7953"
             ],
             [
              0.7777777777777778,
              "#fb9f3a"
             ],
             [
              0.8888888888888888,
              "#fdca26"
             ],
             [
              1,
              "#f0f921"
             ]
            ],
            "type": "histogram2dcontour"
           }
          ],
          "mesh3d": [
           {
            "colorbar": {
             "outlinewidth": 0,
             "ticks": ""
            },
            "type": "mesh3d"
           }
          ],
          "parcoords": [
           {
            "line": {
             "colorbar": {
              "outlinewidth": 0,
              "ticks": ""
             }
            },
            "type": "parcoords"
           }
          ],
          "pie": [
           {
            "automargin": true,
            "type": "pie"
           }
          ],
          "scatter": [
           {
            "fillpattern": {
             "fillmode": "overlay",
             "size": 10,
             "solidity": 0.2
            },
            "type": "scatter"
           }
          ],
          "scatter3d": [
           {
            "line": {
             "colorbar": {
              "outlinewidth": 0,
              "ticks": ""
             }
            },
            "marker": {
             "colorbar": {
              "outlinewidth": 0,
              "ticks": ""
             }
            },
            "type": "scatter3d"
           }
          ],
          "scattercarpet": [
           {
            "marker": {
             "colorbar": {
              "outlinewidth": 0,
              "ticks": ""
             }
            },
            "type": "scattercarpet"
           }
          ],
          "scattergeo": [
           {
            "marker": {
             "colorbar": {
              "outlinewidth": 0,
              "ticks": ""
             }
            },
            "type": "scattergeo"
           }
          ],
          "scattergl": [
           {
            "marker": {
             "colorbar": {
              "outlinewidth": 0,
              "ticks": ""
             }
            },
            "type": "scattergl"
           }
          ],
          "scattermapbox": [
           {
            "marker": {
             "colorbar": {
              "outlinewidth": 0,
              "ticks": ""
             }
            },
            "type": "scattermapbox"
           }
          ],
          "scatterpolar": [
           {
            "marker": {
             "colorbar": {
              "outlinewidth": 0,
              "ticks": ""
             }
            },
            "type": "scatterpolar"
           }
          ],
          "scatterpolargl": [
           {
            "marker": {
             "colorbar": {
              "outlinewidth": 0,
              "ticks": ""
             }
            },
            "type": "scatterpolargl"
           }
          ],
          "scatterternary": [
           {
            "marker": {
             "colorbar": {
              "outlinewidth": 0,
              "ticks": ""
             }
            },
            "type": "scatterternary"
           }
          ],
          "surface": [
           {
            "colorbar": {
             "outlinewidth": 0,
             "ticks": ""
            },
            "colorscale": [
             [
              0,
              "#0d0887"
             ],
             [
              0.1111111111111111,
              "#46039f"
             ],
             [
              0.2222222222222222,
              "#7201a8"
             ],
             [
              0.3333333333333333,
              "#9c179e"
             ],
             [
              0.4444444444444444,
              "#bd3786"
             ],
             [
              0.5555555555555556,
              "#d8576b"
             ],
             [
              0.6666666666666666,
              "#ed7953"
             ],
             [
              0.7777777777777778,
              "#fb9f3a"
             ],
             [
              0.8888888888888888,
              "#fdca26"
             ],
             [
              1,
              "#f0f921"
             ]
            ],
            "type": "surface"
           }
          ],
          "table": [
           {
            "cells": {
             "fill": {
              "color": "#EBF0F8"
             },
             "line": {
              "color": "white"
             }
            },
            "header": {
             "fill": {
              "color": "#C8D4E3"
             },
             "line": {
              "color": "white"
             }
            },
            "type": "table"
           }
          ]
         },
         "layout": {
          "annotationdefaults": {
           "arrowcolor": "#2a3f5f",
           "arrowhead": 0,
           "arrowwidth": 1
          },
          "autotypenumbers": "strict",
          "coloraxis": {
           "colorbar": {
            "outlinewidth": 0,
            "ticks": ""
           }
          },
          "colorscale": {
           "diverging": [
            [
             0,
             "#8e0152"
            ],
            [
             0.1,
             "#c51b7d"
            ],
            [
             0.2,
             "#de77ae"
            ],
            [
             0.3,
             "#f1b6da"
            ],
            [
             0.4,
             "#fde0ef"
            ],
            [
             0.5,
             "#f7f7f7"
            ],
            [
             0.6,
             "#e6f5d0"
            ],
            [
             0.7,
             "#b8e186"
            ],
            [
             0.8,
             "#7fbc41"
            ],
            [
             0.9,
             "#4d9221"
            ],
            [
             1,
             "#276419"
            ]
           ],
           "sequential": [
            [
             0,
             "#0d0887"
            ],
            [
             0.1111111111111111,
             "#46039f"
            ],
            [
             0.2222222222222222,
             "#7201a8"
            ],
            [
             0.3333333333333333,
             "#9c179e"
            ],
            [
             0.4444444444444444,
             "#bd3786"
            ],
            [
             0.5555555555555556,
             "#d8576b"
            ],
            [
             0.6666666666666666,
             "#ed7953"
            ],
            [
             0.7777777777777778,
             "#fb9f3a"
            ],
            [
             0.8888888888888888,
             "#fdca26"
            ],
            [
             1,
             "#f0f921"
            ]
           ],
           "sequentialminus": [
            [
             0,
             "#0d0887"
            ],
            [
             0.1111111111111111,
             "#46039f"
            ],
            [
             0.2222222222222222,
             "#7201a8"
            ],
            [
             0.3333333333333333,
             "#9c179e"
            ],
            [
             0.4444444444444444,
             "#bd3786"
            ],
            [
             0.5555555555555556,
             "#d8576b"
            ],
            [
             0.6666666666666666,
             "#ed7953"
            ],
            [
             0.7777777777777778,
             "#fb9f3a"
            ],
            [
             0.8888888888888888,
             "#fdca26"
            ],
            [
             1,
             "#f0f921"
            ]
           ]
          },
          "colorway": [
           "#636efa",
           "#EF553B",
           "#00cc96",
           "#ab63fa",
           "#FFA15A",
           "#19d3f3",
           "#FF6692",
           "#B6E880",
           "#FF97FF",
           "#FECB52"
          ],
          "font": {
           "color": "#2a3f5f"
          },
          "geo": {
           "bgcolor": "white",
           "lakecolor": "white",
           "landcolor": "#E5ECF6",
           "showlakes": true,
           "showland": true,
           "subunitcolor": "white"
          },
          "hoverlabel": {
           "align": "left"
          },
          "hovermode": "closest",
          "mapbox": {
           "style": "light"
          },
          "paper_bgcolor": "white",
          "plot_bgcolor": "#E5ECF6",
          "polar": {
           "angularaxis": {
            "gridcolor": "white",
            "linecolor": "white",
            "ticks": ""
           },
           "bgcolor": "#E5ECF6",
           "radialaxis": {
            "gridcolor": "white",
            "linecolor": "white",
            "ticks": ""
           }
          },
          "scene": {
           "xaxis": {
            "backgroundcolor": "#E5ECF6",
            "gridcolor": "white",
            "gridwidth": 2,
            "linecolor": "white",
            "showbackground": true,
            "ticks": "",
            "zerolinecolor": "white"
           },
           "yaxis": {
            "backgroundcolor": "#E5ECF6",
            "gridcolor": "white",
            "gridwidth": 2,
            "linecolor": "white",
            "showbackground": true,
            "ticks": "",
            "zerolinecolor": "white"
           },
           "zaxis": {
            "backgroundcolor": "#E5ECF6",
            "gridcolor": "white",
            "gridwidth": 2,
            "linecolor": "white",
            "showbackground": true,
            "ticks": "",
            "zerolinecolor": "white"
           }
          },
          "shapedefaults": {
           "line": {
            "color": "#2a3f5f"
           }
          },
          "ternary": {
           "aaxis": {
            "gridcolor": "white",
            "linecolor": "white",
            "ticks": ""
           },
           "baxis": {
            "gridcolor": "white",
            "linecolor": "white",
            "ticks": ""
           },
           "bgcolor": "#E5ECF6",
           "caxis": {
            "gridcolor": "white",
            "linecolor": "white",
            "ticks": ""
           }
          },
          "title": {
           "x": 0.05
          },
          "xaxis": {
           "automargin": true,
           "gridcolor": "white",
           "linecolor": "white",
           "ticks": "",
           "title": {
            "standoff": 15
           },
           "zerolinecolor": "white",
           "zerolinewidth": 2
          },
          "yaxis": {
           "automargin": true,
           "gridcolor": "white",
           "linecolor": "white",
           "ticks": "",
           "title": {
            "standoff": 15
           },
           "zerolinecolor": "white",
           "zerolinewidth": 2
          }
         }
        }
       }
      }
     },
     "metadata": {},
     "output_type": "display_data"
    }
   ],
   "source": [
    "start_time = datetime.strptime(\"2021-07-01 00:00:00\", '%Y-%m-%d %H:%M:%S')\n",
    "end_time = datetime.strptime(\"2021-07-02 00:00:00\", '%Y-%m-%d %H:%M:%S')\n",
    "\n",
    "with aisdb.SQLiteDBConn() as dbconn:\n",
    "\n",
    "    # define the region of interest\n",
    "    # In this example, we use a circle with a center at cape town in South Africa, and a radius of 800 km\n",
    "    domain = aisdb.DomainFromPoints(\n",
    "        points=[(18.4157, -33.9646),], radial_distances=[800000,])\n",
    "\n",
    "    qry = aisdb.DBQuery(\n",
    "        dbconn=dbconn,\n",
    "        dbpath='./AIS2.db',\n",
    "        callback=aisdb.database.sqlfcn_callbacks.in_bbox_time_validmmsi,\n",
    "        start=start_time,\n",
    "        end=end_time,\n",
    "        xmin=domain.boundary['xmin'],\n",
    "        xmax=domain.boundary['xmax'],\n",
    "        ymin=domain.boundary['ymin'],\n",
    "        ymax=domain.boundary['ymax'],\n",
    "    )\n",
    "    rowgen = qry.gen_qry()\n",
    "    tracks = aisdb.track_gen.TrackGen(rowgen, decimate=True)\n",
    "\n",
    "    # merge the tracks with the raster data\n",
    "    raster_path = \"./bathymetry_data/gebco_2022_n0.0_s-90.0_w0.0_e90.0.tif\"\n",
    "    raster = aisdb.webdata.load_raster.RasterFile(raster_path)\n",
    "    tracks_raster = raster.merge_tracks(tracks, new_track_key=\"coast_distance\")\n",
    "\n",
    "    track_list = list(tracks_raster)\n",
    "    # sort the tracks by the costal distance\n",
    "    track_list.sort(key=lambda x: x['coast_distance'][0])\n",
    "\n",
    "    print(\"The vessel with the longest distance to the coast is in this area:\")\n",
    "    print(track_list[0])\n",
    "\n",
    "    # \n",
    "    # The following code will be used to visualize the track with plotly\n",
    "    #\n",
    "    \n",
    "    # convert the track list to a pandas dataframe\n",
    "    track_dataframe = pd.DataFrame(track_list)\n",
    "\n",
    "    track_dataframe['lat'] = track_dataframe['lat'].apply(lambda x: x[0])\n",
    "    track_dataframe['lon'] = track_dataframe['lon'].apply(lambda x: x[0])\n",
    "    track_dataframe['coast_distance'] = track_dataframe['coast_distance'].apply(lambda x: x[0])\n",
    "\n",
    "    # draw a map grapsed on the raster data use plotly\n",
    "    fig = px.scatter_geo(track_dataframe, lat='lat', lon='lon', color='coast_distance', hover_data=['mmsi'])\n",
    "    fig.show()\n",
    "    "
   ]
  }
 ],
 "metadata": {
  "kernelspec": {
   "display_name": "env",
   "language": "python",
   "name": "python3"
  },
  "language_info": {
   "codemirror_mode": {
    "name": "ipython",
    "version": 3
   },
   "file_extension": ".py",
   "mimetype": "text/x-python",
   "name": "python",
   "nbconvert_exporter": "python",
   "pygments_lexer": "ipython3",
   "version": "3.9.6"
  }
 },
 "nbformat": 4,
 "nbformat_minor": 5
}
