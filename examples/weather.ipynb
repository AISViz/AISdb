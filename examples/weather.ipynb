{
 "cells": [
  {
   "cell_type": "code",
   "execution_count": 9,
   "metadata": {},
   "outputs": [],
   "source": [
    "import aisdb\n",
    "import nest_asyncio\n",
    "from aisdb import DBQuery\n",
    "from aisdb.database.dbconn import PostgresDBConn\n",
    "from datetime import datetime\n",
    "from PIL import ImageFile\n",
    "from aisdb.weather.data_store import WeatherDataStore # for weather\n",
    "\n",
    "nest_asyncio.apply()\n",
    "ImageFile.LOAD_TRUNCATED_IMAGES = True"
   ]
  },
  {
   "cell_type": "code",
   "execution_count": null,
   "metadata": {},
   "outputs": [],
   "source": [
    "# >>> PostgreSQL Information <<<\n",
    "db_user='<username>'            # DB User\n",
    "db_dbname='aisviz'         # DB Schema\n",
    "db_password='<password>'    # DB Password\n",
    "db_hostaddr='127.0.0.1'    # DB Host address\n",
    "\n",
    "dbconn = PostgresDBConn(\n",
    "    port=5555,             # PostgreSQL port\n",
    "    user=db_user,          # PostgreSQL username\n",
    "    dbname=db_dbname,      # PostgreSQL database\n",
    "    host=db_hostaddr,      # PostgreSQL address\n",
    "    password=db_password,  # PostgreSQL password\n",
    ")"
   ]
  },
  {
   "cell_type": "code",
   "execution_count": 11,
   "metadata": {},
   "outputs": [],
   "source": [
    "xmin, ymin, xmax, ymax = -70, 45, -58, 53\n",
    "gulf_bbox = [xmin, xmax, ymin, ymax]\n",
    "start_time = datetime(2023, 8, 1)\n",
    "end_time = datetime(2023, 8, 30)\n",
    "\n",
    "qry = DBQuery(\n",
    "    dbconn=dbconn,\n",
    "    start=start_time, end=end_time,\n",
    "    xmin=xmin, xmax=xmax, ymin=ymin, ymax=ymax,\n",
    "    callback=aisdb.database.sqlfcn_callbacks.in_time_bbox_validmmsi\n",
    ")\n",
    "\n",
    "ais_tracks = []\n",
    "rowgen = qry.gen_qry()\n",
    "tracks = aisdb.track_gen.TrackGen(rowgen, decimate=True)"
   ]
  },
  {
   "cell_type": "markdown",
   "metadata": {},
   "source": [
    "# Initialize WeatherDataStore Instance to work with Weather Grib Files from ERA5"
   ]
  },
  {
   "cell_type": "code",
   "execution_count": null,
   "metadata": {},
   "outputs": [
    {
     "name": "stderr",
     "output_type": "stream",
     "text": [
      "2025-05-13 15:17:51,089 INFO [2024-09-26T00:00:00] Watch our [Forum](https://forum.ecmwf.int/) for Announcements, news and other discussed topics.\n",
      "[2024-09-26T00:00:00] Watch our [Forum](https://forum.ecmwf.int/) for Announcements, news and other discussed topics.\n",
      "2025-05-13 15:17:51,090 WARNING [2024-06-16T00:00:00] CDS API syntax is changed and some keys or parameter names may have also changed. To avoid requests failing, please use the \"Show API request code\" tool on the dataset Download Form to check you are using the correct syntax for your API request.\n",
      "[2024-06-16T00:00:00] CDS API syntax is changed and some keys or parameter names may have also changed. To avoid requests failing, please use the \"Show API request code\" tool on the dataset Download Form to check you are using the correct syntax for your API request.\n",
      "Processing 2023-8: Last day is 31\n",
      "Final request parameters: {'product_type': ['reanalysis'], 'data_format': 'grib', 'download_format': 'unarchived', 'area': [53, -70, -58, 45], 'variable': ['10m_v_component_of_wind', '10m_u_component_of_wind'], 'year': ['2023'], 'month': ['08'], 'day': ['01', '02', '03', '04', '05', '06', '07', '08', '09', '10', '11', '12', '13', '14', '15', '16', '17', '18', '19', '20', '21', '22', '23', '24', '25', '26', '27', '28', '29', '30'], 'time': ['00:00', '01:00', '02:00', '03:00', '04:00', '05:00', '06:00', '07:00', '08:00', '09:00', '10:00', '11:00', '12:00', '13:00', '14:00', '15:00', '16:00', '17:00', '18:00', '19:00', '20:00', '21:00', '22:00', '23:00']}\n"
     ]
    },
    {
     "name": "stdout",
     "output_type": "stream",
     "text": [
      "Downloading weather data from CDS to: .\n"
     ]
    },
    {
     "name": "stderr",
     "output_type": "stream",
     "text": [
      "2025-05-13 15:17:52,111 INFO Request ID is ce6a71f5-e225-4c68-a604-1aca6ac95a35\n",
      "Request ID is ce6a71f5-e225-4c68-a604-1aca6ac95a35\n",
      "2025-05-13 15:17:52,661 INFO status has been updated to accepted\n",
      "status has been updated to accepted\n",
      "2025-05-13 15:18:14,542 INFO status has been updated to running\n",
      "status has been updated to running\n",
      "2025-05-13 15:19:47,744 INFO status has been updated to successful\n",
      "status has been updated to successful\n",
      "Downloading https://object-store.os-api.cci2.ecmwf.int:443/cci2-prod-cache-2/2025-05-13/91f6fc85dbdf1de5c8ca4185a964fd6b.grib\n",
      "91f6fc85dbdf1de5c8ca4185a964fd6b.grib:  24%|██▍       | 136M/564M [29:20<1:27:58, 84.9kB/s] "
     ]
    }
   ],
   "source": [
    "# If you want to explicitely download weather data from CDS, set download_from_cds=True\n",
    "weather_data_store = WeatherDataStore(short_names = ['10v','10u'], start = start_time,end =  end_time,weather_data_path = \".\",download_from_cds = True,area = [-70, 45, -58, 53])\n",
    "\n",
    "# If you already have the weather data downloaded, set download_from_cds=False, and specify path to the Grib files.\n",
    "# weather_data_store = WeatherDataStore(short_names = ['10v','10u'],start = start_time,end = end_time,weather_data_path = \"/home/CanadaV2\",download_from_cds=True)"
   ]
  },
  {
   "cell_type": "code",
   "execution_count": 5,
   "metadata": {},
   "outputs": [
    {
     "name": "stdout",
     "output_type": "stream",
     "text": [
      "'u-component' 10m wind for:\n",
      "lat: 50.003334045410156 \n",
      "lon: -66.76000213623047 \n",
      "time: 1690858823 \n",
      "is 1.5310821533203125 m/s\n"
     ]
    }
   ],
   "source": [
    "tracks = weather_data_store.yield_tracks_with_weather(tracks)\n",
    "\n",
    "for t in tracks:\n",
    "    print(f\"'u-component' 10m wind for:\\nlat: {t['lat'][0]} \\nlon: {t['lon'][0]} \\ntime: {t['time'][0]} \\nis {t['weather_data']['u10'][0]} m/s\")\n",
    "    break\n",
    "\n",
    "weather_data_store.close()"
   ]
  },
  {
   "cell_type": "markdown",
   "metadata": {},
   "source": [
    "# Only download Weather Grib Files\n"
   ]
  },
  {
   "cell_type": "code",
   "execution_count": 6,
   "metadata": {},
   "outputs": [
    {
     "name": "stderr",
     "output_type": "stream",
     "text": [
      "2025-05-13 15:14:41,225 INFO [2024-09-26T00:00:00] Watch our [Forum](https://forum.ecmwf.int/) for Announcements, news and other discussed topics.\n",
      "[2024-09-26T00:00:00] Watch our [Forum](https://forum.ecmwf.int/) for Announcements, news and other discussed topics.\n",
      "2025-05-13 15:14:41,227 WARNING [2024-06-16T00:00:00] CDS API syntax is changed and some keys or parameter names may have also changed. To avoid requests failing, please use the \"Show API request code\" tool on the dataset Download Form to check you are using the correct syntax for your API request.\n",
      "[2024-06-16T00:00:00] CDS API syntax is changed and some keys or parameter names may have also changed. To avoid requests failing, please use the \"Show API request code\" tool on the dataset Download Form to check you are using the correct syntax for your API request.\n",
      "Processing 2023-8: Last day is 31\n",
      "Final request parameters: {'product_type': ['reanalysis'], 'data_format': 'grib', 'download_format': 'unarchived', 'area': [53, -70, 45, -58], 'variable': ['10m_v_component_of_wind', '10m_u_component_of_wind'], 'year': ['2023'], 'month': ['08'], 'day': ['01', '02'], 'time': ['00:00', '01:00', '02:00', '03:00', '04:00', '05:00', '06:00', '07:00', '08:00', '09:00', '10:00', '11:00', '12:00', '13:00', '14:00', '15:00', '16:00', '17:00', '18:00', '19:00', '20:00', '21:00', '22:00', '23:00']}\n",
      "2025-05-13 15:14:42,631 INFO Request ID is 5054ead0-c85d-47fd-a259-f3616f39a862\n",
      "Request ID is 5054ead0-c85d-47fd-a259-f3616f39a862\n",
      "2025-05-13 15:14:42,792 INFO status has been updated to accepted\n",
      "status has been updated to accepted\n",
      "2025-05-13 15:14:51,572 INFO status has been updated to running\n",
      "status has been updated to running\n",
      "2025-05-13 15:15:04,538 INFO status has been updated to successful\n",
      "status has been updated to successful\n"
     ]
    },
    {
     "name": "stdout",
     "output_type": "stream",
     "text": [
      "Error while fetching weather data: [Errno 13] Permission denied: '/weather_data'\n"
     ]
    }
   ],
   "source": [
    "from aisdb.weather.weather_fetch import ClimateDataStore # for weather\n",
    "\n",
    "climateDataStore = ClimateDataStore(dataset=\"reanalysis-era5-single-levels\", short_names= ['10v','10u'], start_time = start_time, end_time = end_time, area= gulf_bbox)\n",
    "climateDataStore.download_grib_file(output_folder=\"/weather_data\")"
   ]
  }
 ],
 "metadata": {
  "kernelspec": {
   "display_name": ".venv",
   "language": "python",
   "name": "python3"
  },
  "language_info": {
   "codemirror_mode": {
    "name": "ipython",
    "version": 3
   },
   "file_extension": ".py",
   "mimetype": "text/x-python",
   "name": "python",
   "nbconvert_exporter": "python",
   "pygments_lexer": "ipython3",
   "version": "3.12.7"
  }
 },
 "nbformat": 4,
 "nbformat_minor": 4
}
