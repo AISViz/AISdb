{
 "cells": [
  {
   "cell_type": "code",
   "execution_count": 1,
   "metadata": {},
   "outputs": [],
   "source": [
    "import aisdb\n",
    "import nest_asyncio\n",
    "from aisdb import DBQuery\n",
    "from aisdb.database.dbconn import PostgresDBConn\n",
    "from datetime import datetime\n",
    "from PIL import ImageFile\n",
    "from aisdb.weather.data_store import WeatherDataStore # for weather\n",
    "\n",
    "nest_asyncio.apply()\n",
    "ImageFile.LOAD_TRUNCATED_IMAGES = True"
   ]
  },
  {
   "cell_type": "code",
   "execution_count": null,
   "metadata": {},
   "outputs": [],
   "source": [
    "# >>> PostgreSQL Information <<<\n",
    "db_user='<user-name>'            # DB User\n",
    "db_dbname='aisviz'         # DB Schema\n",
    "db_password='<password>'    # DB Password\n",
    "db_hostaddr='127.0.0.1'    # DB Host address\n",
    "\n",
    "dbconn = PostgresDBConn(\n",
    "    port=5555,             # PostgreSQL port\n",
    "    user=db_user,          # PostgreSQL username\n",
    "    dbname=db_dbname,      # PostgreSQL database\n",
    "    host=db_hostaddr,      # PostgreSQL address\n",
    "    password=db_password,  # PostgreSQL password\n",
    ")"
   ]
  },
  {
   "cell_type": "code",
   "execution_count": 4,
   "metadata": {},
   "outputs": [],
   "source": [
    "xmin, ymin, xmax, ymax = -70, 45, -58, 53\n",
    "gulf_bbox = [xmin, xmax, ymin, ymax]\n",
    "start_time = datetime(2023, 8, 1)\n",
    "end_time = datetime(2023, 8, 2)\n",
    "\n",
    "qry = DBQuery(\n",
    "    dbconn=dbconn,\n",
    "    start=start_time, end=end_time,\n",
    "    xmin=xmin, xmax=xmax, ymin=ymin, ymax=ymax,\n",
    "    callback=aisdb.database.sqlfcn_callbacks.in_time_bbox_validmmsi\n",
    ")\n",
    "\n",
    "ais_tracks = []\n",
    "rowgen = qry.gen_qry()\n",
    "tracks = aisdb.track_gen.TrackGen(rowgen, decimate=True)"
   ]
  },
  {
   "cell_type": "code",
   "execution_count": null,
   "metadata": {},
   "outputs": [
    {
     "name": "stdout",
     "output_type": "stream",
     "text": [
      "unzipping files to /tmp/tmphkngvykb ... \n"
     ]
    },
    {
     "name": "stderr",
     "output_type": "stream",
     "text": [
      "/home/vaishnav/vaishnav/Project11/AISdb/venv/lib/python3.12/site-packages/cfgrib/xarray_plugin.py:131: FutureWarning: In a future version of xarray decode_timedelta will default to False rather than None. To silence this warning, set decode_timedelta to True, False, or a 'CFTimedeltaCoder' instance.\n",
      "  vars, attrs, coord_names = xr.conventions.decode_cf_variables(\n"
     ]
    }
   ],
   "source": [
    "weather_data_store = WeatherDataStore(['10v','10u'], start_time, end_time,\"/home/CanadaV2\")\n",
    "\n",
    "# If you want to explicitely download weather data from CDS, set download_from_cds=True\n",
    "# weather_data_store = WeatherDataStore(['10v','10u'], start_time, end_time,\"/home/CanadaV2\",download_from_cds=True)"
   ]
  },
  {
   "cell_type": "code",
   "execution_count": 7,
   "metadata": {},
   "outputs": [
    {
     "name": "stdout",
     "output_type": "stream",
     "text": [
      "'u-component' 10m wind for:\n",
      "lat: 45.74833297729492 \n",
      "lon: -58.003334045410156 \n",
      "time: 1690861735 \n",
      "is -0.9453592300415039 m/s\n"
     ]
    }
   ],
   "source": [
    "tracks = weather_data_store.yield_tracks_with_weather(tracks)\n",
    "\n",
    "for t in tracks:\n",
    "    print(f\"'u-component' 10m wind for:\\nlat: {t['lat'][0]} \\nlon: {t['lon'][0]} \\ntime: {t['time'][0]} \\nis {t['weather_data']['u10'][0]} m/s\")\n",
    "    break\n",
    "\n",
    "weather_data_store.close()"
   ]
  }
 ],
 "metadata": {
  "kernelspec": {
   "display_name": "venv",
   "language": "python",
   "name": "python3"
  },
  "language_info": {
   "codemirror_mode": {
    "name": "ipython",
    "version": 3
   },
   "file_extension": ".py",
   "mimetype": "text/x-python",
   "name": "python",
   "nbconvert_exporter": "python",
   "pygments_lexer": "ipython3",
   "version": "3.12.3"
  }
 },
 "nbformat": 4,
 "nbformat_minor": 4
}
